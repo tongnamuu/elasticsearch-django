{
 "cells": [
  {
   "cell_type": "markdown",
   "id": "4c44364d-b5c0-4410-a35e-a204ef4bae32",
   "metadata": {},
   "source": [
    "### Embedding Model"
   ]
  },
  {
   "cell_type": "code",
   "execution_count": 4,
   "id": "97890549-ee5e-477f-b027-312ef47da112",
   "metadata": {
    "scrolled": true
   },
   "outputs": [],
   "source": [
    "# Setup\n",
    "# ! pip3 install -U sentence-transformers\n",
    "# ! pip3 install datasets\n",
    "# ! pip3 install 'transformers[torch]' accelerate -U"
   ]
  },
  {
   "cell_type": "code",
   "execution_count": 14,
   "id": "f8c0a32f-b9d0-4c4e-86f6-2ecb989c51cf",
   "metadata": {
    "scrolled": true
   },
   "outputs": [
    {
     "name": "stdout",
     "output_type": "stream",
     "text": [
      "[[-2.02598123e-04  8.14801604e-02  3.13617624e-02  2.92063178e-03\n",
      "   2.61564553e-02  2.90739760e-02  7.82618672e-02 -1.80423632e-03\n",
      "   1.01344332e-01 -4.51711416e-02  5.84349632e-02 -1.53201362e-02\n",
      "   5.49956262e-02 -9.86435190e-02 -3.50252688e-02  8.45673401e-03\n",
      "   1.58608239e-02  1.05627300e-02 -3.42710093e-02 -4.75064246e-03\n",
      "   9.99022350e-02 -2.06018798e-02 -4.47837934e-02  3.12135480e-02\n",
      "  -1.19240722e-02 -5.15015535e-02 -1.33605665e-02  1.89621411e-02\n",
      "   9.76810232e-02 -5.44111170e-02 -3.43313850e-02  8.12905282e-02\n",
      "   4.88119759e-02 -1.10284155e-02  2.13518068e-02  1.27189662e-02\n",
      "  -1.43967597e-02  3.62864062e-02 -7.61233494e-02  3.23294066e-02\n",
      "   2.08102558e-02 -4.22015898e-02  9.12907273e-02  2.08530165e-02\n",
      "  -3.08016930e-02 -8.38505253e-02  1.30891204e-02 -3.00631002e-02\n",
      "   4.11229171e-02 -1.27495363e-01 -7.78027102e-02 -3.93412188e-02\n",
      "   1.52594328e-03 -2.80108247e-02  3.41662578e-02  1.46712493e-02\n",
      "  -7.71653429e-02  1.63619548e-01  4.11295332e-02 -5.24460115e-02\n",
      "  -4.18772027e-02  1.80532522e-02 -1.38921710e-02 -3.68188433e-02\n",
      "   6.94982111e-02 -2.57089660e-02  3.58545408e-02  2.10188329e-02\n",
      "  -3.88453193e-02  5.48929675e-03 -5.24538420e-02  2.53095217e-02\n",
      "  -3.37337963e-02  1.32596180e-01 -6.10912852e-02  3.26036960e-02\n",
      "   5.77245392e-02 -2.34847460e-02  2.13150810e-02 -1.93922373e-04\n",
      "  -6.79142494e-03 -9.23270807e-02  8.69555119e-03  4.67636958e-02\n",
      "  -1.09597025e-02  3.90583053e-02  4.67451215e-02 -6.97859302e-02\n",
      "  -8.76970962e-03 -4.95578768e-03 -4.60132724e-03 -1.33248474e-02\n",
      "   2.32676324e-02 -3.53462361e-02  4.84487647e-03  1.13839572e-02\n",
      "  -1.28256083e-02 -6.86461106e-02  9.05700922e-02  1.46576911e-01\n",
      "  -2.57075881e-03  1.96601613e-03 -4.44637761e-02  8.92919004e-02\n",
      "  -1.84476585e-03 -7.39448294e-02  2.70542465e-02 -1.62209291e-02\n",
      "  -6.78874599e-03  5.03088487e-03  2.87305564e-03  1.09455265e-01\n",
      "   5.26228733e-03 -2.67167836e-02  2.40294524e-02 -1.02002740e-01\n",
      "  -5.51330708e-02  3.11162136e-02 -4.25662249e-02  2.41171699e-02\n",
      "   8.62248987e-02  1.40620247e-02  5.43983765e-02  6.58208085e-03\n",
      "  -6.54587522e-03 -1.82522401e-01  3.33481166e-03 -3.55974957e-02\n",
      "   7.08516017e-02 -9.57390517e-02 -1.96371600e-02 -3.81112918e-02\n",
      "  -3.35169695e-02 -1.22584058e-02 -1.95621382e-02 -1.88210122e-02\n",
      "   7.09056780e-02 -2.38279458e-02 -4.38258946e-02  4.14045341e-03\n",
      "   2.34935861e-02  7.08973184e-02  4.74440306e-02  1.10030636e-01\n",
      "  -1.46241868e-02  8.38571638e-02 -2.49921195e-02  2.43394747e-02\n",
      "   2.58428548e-02  3.48662934e-03  7.75774866e-02  1.36854555e-02\n",
      "  -1.12429704e-03 -4.09774669e-02  9.43042431e-03  8.89130384e-02\n",
      "   1.78674590e-02 -1.25598190e-02  2.03468278e-02  2.68275142e-02\n",
      "  -1.12383015e-01 -4.35610116e-03 -3.59276012e-02  3.59337032e-03\n",
      "   3.43266204e-02 -5.97712472e-02 -1.52727347e-02  1.96031537e-02\n",
      "  -1.81837436e-02  2.43068300e-02  3.61864716e-02  1.40598295e-02\n",
      "   7.63977543e-02 -2.29792241e-02 -3.02058309e-02 -5.18090948e-02\n",
      "   8.70229304e-03  1.03742993e-02  2.12673396e-02  1.47499545e-02\n",
      "   1.99045986e-02 -3.26794609e-02 -5.58854900e-02  1.33373523e-02\n",
      "  -2.55302824e-02  2.49464549e-02 -2.11066809e-02 -9.40899830e-03\n",
      "   6.47299439e-02  8.33945349e-02 -6.21270947e-02 -1.80429630e-02\n",
      "  -1.31128719e-02  5.53957606e-03  8.67437851e-03 -4.61623818e-02\n",
      "   2.93963607e-02  1.22839632e-02  2.90663447e-02 -2.46203300e-02\n",
      "  -3.52006517e-02  4.11811583e-02 -5.11748381e-02 -7.29921460e-02\n",
      "  -4.15234268e-02 -2.82162316e-02  2.18408071e-02 -2.09279545e-02\n",
      "  -7.19907954e-02 -6.35345355e-02  2.97389217e-02  8.86808336e-02\n",
      "  -1.20571971e-01  6.41298713e-03 -1.44593986e-02  2.02455209e-03\n",
      "   2.14876495e-02  4.11970317e-02 -9.97400060e-02 -3.58695723e-03\n",
      "  -3.19880396e-02 -8.88214484e-02  1.03656752e-02  1.42719091e-32\n",
      "  -6.83850050e-02  9.51828882e-02 -6.60326779e-02 -1.38872920e-03\n",
      "   2.51542702e-02 -1.49377324e-02  2.05730032e-02  9.61362757e-03\n",
      "  -5.12582324e-02  2.00128090e-02 -6.83292300e-02  7.21150637e-02\n",
      "   1.00437866e-03  5.33541143e-02 -6.63842857e-02 -4.96828966e-02\n",
      "   6.08999422e-03  5.82694970e-02 -1.79338623e-02  1.60418916e-02\n",
      "   2.46762950e-03  1.09896630e-01 -6.04725927e-02  3.49095166e-02\n",
      "   8.86769406e-03  5.38224466e-02  3.75711843e-02 -4.12495248e-02\n",
      "  -9.29337665e-02 -2.57948302e-02 -2.73304991e-02 -3.40202311e-03\n",
      "  -5.42245246e-02  8.97039622e-02 -3.52194831e-02  2.80627180e-02\n",
      "   1.09665744e-01 -8.79286006e-02 -2.83204801e-02 -1.27084814e-02\n",
      "  -7.53677115e-02 -6.22945093e-02 -1.00845926e-01  1.68440402e-01\n",
      "  -6.55395761e-02 -2.01678742e-02  2.04910729e-02 -5.05097862e-03\n",
      "   3.53213698e-02  1.87974442e-02 -8.69056210e-02 -4.40778695e-02\n",
      "   3.24553177e-02  3.73139977e-03 -4.69771363e-02 -6.99294684e-03\n",
      "  -1.12587307e-02 -3.00850477e-02  2.64132060e-02 -2.54760720e-02\n",
      "  -9.44523513e-02  4.47598360e-02  2.59944052e-02  3.36646847e-02\n",
      "   1.07355200e-01  2.38674432e-02 -5.21559641e-02 -2.57881451e-02\n",
      "  -8.84794071e-03 -4.32152003e-02 -5.78810237e-02 -5.88488160e-03\n",
      "  -4.22228836e-02  1.25165861e-02  1.29756797e-02  1.61901359e-02\n",
      "  -2.09277496e-02 -8.63669962e-02 -5.29267602e-02 -9.71984060e-04\n",
      "   5.20951971e-02 -1.65281501e-02  6.22636080e-02 -4.54176869e-03\n",
      "   2.80564073e-02  1.71491150e-02 -4.03570719e-02  1.90637745e-02\n",
      "  -1.75333917e-02  4.13966663e-02  3.06927394e-02 -6.78556412e-02\n",
      "   9.46632028e-02  6.15275204e-02 -2.61963438e-02  1.39212738e-32\n",
      "   1.48216803e-02 -1.52166933e-01  2.25130823e-02  2.27078926e-02\n",
      "   9.22923759e-02 -2.17548310e-04  6.13869391e-02 -7.12981671e-02\n",
      "  -3.95963937e-02 -9.70910583e-03 -6.78194314e-02  3.66623094e-03\n",
      "  -2.53056046e-02  9.29442123e-02  1.60620511e-02  1.12752825e-01\n",
      "   7.18754390e-03 -2.65172537e-04 -9.71043706e-02  2.00653588e-03\n",
      "   5.14541343e-02  1.56574638e-03 -8.62777233e-02 -7.97878951e-03\n",
      "   2.04309020e-02  8.40781908e-03 -7.00029805e-02  2.19121911e-02\n",
      "  -1.66414399e-02  2.17619408e-02  2.47455798e-02  8.93286094e-02\n",
      "   3.61199453e-02 -5.74983098e-02  9.15854238e-03  1.25125516e-02\n",
      "   6.63418472e-02 -5.74396551e-02  2.81946342e-02 -6.73792660e-02\n",
      "  -2.03464702e-02  4.74988297e-02  9.15744342e-03  8.00419226e-02\n",
      "   5.64985722e-02  6.37302920e-02 -1.94758214e-02  5.68360230e-03\n",
      "   2.93420907e-02 -3.61425281e-02  4.48966287e-02 -4.17972244e-02\n",
      "   5.85531890e-02 -1.53522578e-03  3.34263369e-02 -3.71498913e-02\n",
      "   9.13789123e-02  4.67405515e-03 -1.40173743e-02  2.19751988e-02\n",
      "   2.38484796e-02  6.20930977e-02  4.91032489e-02 -2.90236872e-04]]\n"
     ]
    }
   ],
   "source": [
    "from sentence_transformers import SentenceTransformer, models\n",
    "\n",
    "sentences = [\"This is an example sentence\"]\n",
    "\n",
    "# sentence-transformers model that maps sentences and paragraphs to a 384-dimensional dense vector space\n",
    "embedding_model = SentenceTransformer('sentence-transformers/all-MiniLM-L12-v2')\n",
    "embeddings = embedding_model.encode(sentences)\n",
    "print(embeddings)"
   ]
  },
  {
   "cell_type": "markdown",
   "id": "9f832006-0505-46c1-ab33-9b9583dc8f1e",
   "metadata": {},
   "source": [
    "### Embedding Fine-Tuning"
   ]
  },
  {
   "cell_type": "code",
   "execution_count": 60,
   "id": "b2d2ce9f-adeb-46a1-aca3-f4f3619ca9dd",
   "metadata": {},
   "outputs": [
    {
     "name": "stdout",
     "output_type": "stream",
     "text": [
      "What is the main benefit of the Densifique hair collection?\n"
     ]
    }
   ],
   "source": [
    "# Setup\n",
    "# ! pip3 install -U groq\n",
    "\n",
    "# Create account\n",
    "# 1. sign-up at https://console.groq.com/login\n",
    "# 2. create API Key\n",
    "\n",
    "from groq import Client\n",
    "\n",
    "groq_api_key = \"api_key\"\n",
    "client = Client(api_key=groq_api_key)\n",
    "\n",
    "# example\n",
    "chat_completion = client.chat.completions.create(\n",
    "    messages=[\n",
    "        {\n",
    "            \"role\": \"system\",\n",
    "            \"content\": \"Come up with a question from a given product. Output just the question.\"\n",
    "        },\n",
    "        {\n",
    "            \"role\": \"user\",\n",
    "            \"content\": \"Our Densifique hair collection is formulated to increase hair density. This range is excellent for thinning hair, hair strengthening and as an effective hair texturizer.\",\n",
    "        }\n",
    "    ],\n",
    "    model=\"llama3-8b-8192\",\n",
    ")\n",
    "\n",
    "print(chat_completion.choices[0].message.content)"
   ]
  },
  {
   "cell_type": "code",
   "execution_count": 15,
   "id": "90c0a94c-73c6-4e7d-bab3-0a062f4d0dd5",
   "metadata": {},
   "outputs": [
    {
     "name": "stdout",
     "output_type": "stream",
     "text": [
      "created 26424 product documents\n"
     ]
    }
   ],
   "source": [
    "import os, gzip, json\n",
    "\n",
    "def locale_filter(data, locale='en_US'):\n",
    "    return [data['value'] for data in data if data.get('language_tag') == locale]\n",
    "\n",
    "def get_product_descriptions(product, locale='en_US'):\n",
    "    descriptions = locale_filter(product.get('product_description', []), locale)\n",
    "    return descriptions\n",
    "\n",
    "def get_product_bullet_points(product, locale='en_US'):\n",
    "    bullet_points = locale_filter(product.get('bullet_point', []), locale)\n",
    "    return bullet_points\n",
    "\n",
    "def get_product_name(product, locale='en_US'):\n",
    "    item_name = locale_filter(product.get('item_name', []), locale)\n",
    "    return item_name[0] if item_name else ''\n",
    "\n",
    "def file_iterator(file_path):\n",
    "    with gzip.open(file_path, 'rt', encoding='utf-8') as f:\n",
    "        for line in f:\n",
    "            yield json.loads(line)\n",
    "\n",
    "# convert to structured product document\n",
    "def get_product_doc(product):\n",
    "    name = get_product_name(product)\n",
    "    bullet_points = get_product_bullet_points(product)\n",
    "    descriptions = get_product_descriptions(product)\n",
    "    doc = {}\n",
    "    if name:\n",
    "        text = []\n",
    "        text.append(\"Product Name: %s\" % name)\n",
    "        if bullet_points:\n",
    "            text.append(\"- bullet points: %s\" % ','.join(bullet_points))\n",
    "        if descriptions:\n",
    "            text.append(\"- description: %s\" % ','.join(descriptions))\n",
    "        doc[name] = '\\n'.join(text)\n",
    "    return doc\n",
    "\n",
    "def process_json_gz(file_path):\n",
    "    text = []\n",
    "    products = file_iterator(file_path)\n",
    "    for product in products:\n",
    "        doc = get_product_doc(product)\n",
    "        if doc: text.append(doc)\n",
    "    return text\n",
    "\n",
    "\n",
    "all_files = os.listdir(\"abo-listings/listings/metadata\")\n",
    "\n",
    "list_data = []\n",
    "for file in all_files:\n",
    "    file_path = 'abo-listings/listings/metadata/' + file\n",
    "    data = process_json_gz(file_path)\n",
    "    list_data.extend(data)\n",
    "\n",
    "print(f\"created {len(list_data)} product documents\")"
   ]
  },
  {
   "cell_type": "code",
   "execution_count": 99,
   "id": "3808bd5d-3052-4d56-8c2d-fb9b63114ea2",
   "metadata": {
    "scrolled": true
   },
   "outputs": [
    {
     "name": "stdout",
     "output_type": "stream",
     "text": [
      "Expecting ',' delimiter: line 40 column 97 (char 1832)\n",
      "list index out of range\n",
      "Expecting ',' delimiter: line 60 column 91 (char 2565)\n",
      "Expecting value: line 68 column 14 (char 2577)\n",
      "Expecting ',' delimiter: line 8 column 74 (char 235)\n",
      "list index out of range\n",
      "list index out of range\n",
      "list index out of range\n",
      "Expecting ',' delimiter: line 20 column 84 (char 689)\n",
      "Expecting ',' delimiter: line 16 column 85 (char 710)\n",
      "Expecting ',' delimiter: line 12 column 91 (char 435)\n",
      "list index out of range\n",
      "Expecting value: line 64 column 13 (char 2717)\n",
      "Expecting ',' delimiter: line 4 column 76 (char 82)\n",
      "Expecting value: line 24 column 14 (char 805)\n",
      "list index out of range\n",
      "Expecting ',' delimiter: line 80 column 45 (char 3246)\n",
      "Expecting ',' delimiter: line 4 column 80 (char 86)\n",
      "Expecting ',' delimiter: line 68 column 45 (char 2523)\n",
      "list index out of range\n",
      "Expecting property name enclosed in double quotes: line 32 column 76 (char 1298)\n",
      "Expecting property name enclosed in double quotes: line 28 column 76 (char 1418)\n",
      "Expecting property name enclosed in double quotes: line 24 column 76 (char 875)\n",
      "Expecting property name enclosed in double quotes: line 20 column 76 (char 730)\n",
      "Expecting property name enclosed in double quotes: line 16 column 76 (char 620)\n",
      "Expecting ',' delimiter: line 88 column 101 (char 3880)\n",
      "Expecting ',' delimiter: line 56 column 71 (char 2201)\n",
      "Expecting value: line 19 column 5 (char 912)\n",
      "list index out of range\n",
      "Expecting ',' delimiter: line 16 column 71 (char 653)\n",
      "list index out of range\n",
      "Expecting ',' delimiter: line 20 column 97 (char 834)\n",
      "list index out of range\n",
      "Expecting value: line 1 column 1 (char 0)\n",
      "Invalid \\escape: line 9 column 78 (char 989)\n",
      "Expecting value: line 95 column 1 (char 4209)\n",
      "Expecting value: line 1 column 1 (char 0)\n",
      "Expecting property name enclosed in double quotes: line 72 column 86 (char 3462)\n",
      "Expecting property name enclosed in double quotes: line 64 column 86 (char 3188)\n",
      "Expecting ',' delimiter: line 64 column 56 (char 2790)\n",
      "Expecting ',' delimiter: line 48 column 138 (char 2059)\n",
      "Expecting ',' delimiter: line 32 column 66 (char 1418)\n",
      "Expecting ',' delimiter: line 28 column 66 (char 1200)\n",
      "Expecting ',' delimiter: line 48 column 49 (char 1609)\n",
      "Expecting ',' delimiter: line 44 column 49 (char 1585)\n",
      "Expecting ',' delimiter: line 40 column 49 (char 1498)\n",
      "string indices must be integers\n"
     ]
    },
    {
     "ename": "RateLimitError",
     "evalue": "Error code: 429 - {'error': {'message': 'Rate limit reached for model `llama3-8b-8192` in organization `org_01jagmgwcafe7t4whts5etten7` on : Limit 500000, Used 497987, Requested 2763. Please try again in 2m9.4316s. Visit https://console.groq.com/docs/rate-limits for more information.', 'type': '', 'code': 'rate_limit_exceeded'}}",
     "output_type": "error",
     "traceback": [
      "\u001b[0;31m---------------------------------------------------------------------------\u001b[0m",
      "\u001b[0;31mRateLimitError\u001b[0m                            Traceback (most recent call last)",
      "Cell \u001b[0;32mIn[99], line 39\u001b[0m\n\u001b[1;32m     37\u001b[0m \u001b[38;5;28;01mfor\u001b[39;00m i \u001b[38;5;129;01min\u001b[39;00m \u001b[38;5;28mrange\u001b[39m(total_samples \u001b[38;5;241m-\u001b[39m window_size \u001b[38;5;241m+\u001b[39m \u001b[38;5;241m1\u001b[39m):\n\u001b[1;32m     38\u001b[0m     window \u001b[38;5;241m=\u001b[39m product_doc(samples[i: i \u001b[38;5;241m+\u001b[39m window_size])\n\u001b[0;32m---> 39\u001b[0m     chat_completion \u001b[38;5;241m=\u001b[39m \u001b[43mclient\u001b[49m\u001b[38;5;241;43m.\u001b[39;49m\u001b[43mchat\u001b[49m\u001b[38;5;241;43m.\u001b[39;49m\u001b[43mcompletions\u001b[49m\u001b[38;5;241;43m.\u001b[39;49m\u001b[43mcreate\u001b[49m\u001b[43m(\u001b[49m\n\u001b[1;32m     40\u001b[0m \u001b[43m        \u001b[49m\u001b[43mmessages\u001b[49m\u001b[38;5;241;43m=\u001b[39;49m\u001b[43m[\u001b[49m\n\u001b[1;32m     41\u001b[0m \u001b[43m            \u001b[49m\u001b[43m{\u001b[49m\n\u001b[1;32m     42\u001b[0m \u001b[43m                \u001b[49m\u001b[38;5;124;43m\"\u001b[39;49m\u001b[38;5;124;43mrole\u001b[39;49m\u001b[38;5;124;43m\"\u001b[39;49m\u001b[43m:\u001b[49m\u001b[43m \u001b[49m\u001b[38;5;124;43m\"\u001b[39;49m\u001b[38;5;124;43msystem\u001b[39;49m\u001b[38;5;124;43m\"\u001b[39;49m\u001b[43m,\u001b[49m\n\u001b[1;32m     43\u001b[0m \u001b[43m                \u001b[49m\u001b[38;5;124;43m\"\u001b[39;49m\u001b[38;5;124;43mcontent\u001b[39;49m\u001b[38;5;124;43m\"\u001b[39;49m\u001b[43m:\u001b[49m\u001b[43m \u001b[49m\u001b[38;5;124;43m\"\u001b[39;49m\u001b[38;5;124;43mCome up with one question for each of the product. Output as json format: ```\u001b[39;49m\u001b[38;5;124;43m{\u001b[39;49m\u001b[38;5;124;43m name: [product name], question: [question] }```.\u001b[39;49m\u001b[38;5;124;43m\"\u001b[39;49m\u001b[43m,\u001b[49m\n\u001b[1;32m     44\u001b[0m \u001b[43m            \u001b[49m\u001b[43m}\u001b[49m\u001b[43m,\u001b[49m\n\u001b[1;32m     45\u001b[0m \u001b[43m            \u001b[49m\u001b[43m{\u001b[49m\n\u001b[1;32m     46\u001b[0m \u001b[43m                \u001b[49m\u001b[38;5;124;43m\"\u001b[39;49m\u001b[38;5;124;43mrole\u001b[39;49m\u001b[38;5;124;43m\"\u001b[39;49m\u001b[43m:\u001b[49m\u001b[43m \u001b[49m\u001b[38;5;124;43m\"\u001b[39;49m\u001b[38;5;124;43muser\u001b[39;49m\u001b[38;5;124;43m\"\u001b[39;49m\u001b[43m,\u001b[49m\n\u001b[1;32m     47\u001b[0m \u001b[43m                \u001b[49m\u001b[38;5;124;43m\"\u001b[39;49m\u001b[38;5;124;43mcontent\u001b[39;49m\u001b[38;5;124;43m\"\u001b[39;49m\u001b[43m:\u001b[49m\u001b[43m \u001b[49m\u001b[38;5;124;43m\"\u001b[39;49m\u001b[38;5;130;43;01m\\n\u001b[39;49;00m\u001b[38;5;124;43m\"\u001b[39;49m\u001b[38;5;241;43m.\u001b[39;49m\u001b[43mjoin\u001b[49m\u001b[43m(\u001b[49m\u001b[43mwindow\u001b[49m\u001b[38;5;241;43m.\u001b[39;49m\u001b[43mvalues\u001b[49m\u001b[43m(\u001b[49m\u001b[43m)\u001b[49m\u001b[43m)\u001b[49m\u001b[43m,\u001b[49m\n\u001b[1;32m     48\u001b[0m \u001b[43m            \u001b[49m\u001b[43m}\u001b[49m\n\u001b[1;32m     49\u001b[0m \u001b[43m        \u001b[49m\u001b[43m]\u001b[49m\u001b[43m,\u001b[49m\n\u001b[1;32m     50\u001b[0m \u001b[43m        \u001b[49m\u001b[43mmodel\u001b[49m\u001b[38;5;241;43m=\u001b[39;49m\u001b[38;5;124;43m\"\u001b[39;49m\u001b[38;5;124;43mllama3-8b-8192\u001b[39;49m\u001b[38;5;124;43m\"\u001b[39;49m\u001b[43m,\u001b[49m\n\u001b[1;32m     51\u001b[0m \u001b[43m    \u001b[49m\u001b[43m)\u001b[49m\n\u001b[1;32m     53\u001b[0m     data \u001b[38;5;241m=\u001b[39m format_training_data(chat_completion\u001b[38;5;241m.\u001b[39mchoices[\u001b[38;5;241m0\u001b[39m]\u001b[38;5;241m.\u001b[39mmessage\u001b[38;5;241m.\u001b[39mcontent, window)\n\u001b[1;32m     54\u001b[0m     train_data\u001b[38;5;241m.\u001b[39mextend(data)\n",
      "File \u001b[0;32m/opt/homebrew/lib/python3.9/site-packages/groq/resources/chat/completions.py:287\u001b[0m, in \u001b[0;36mCompletions.create\u001b[0;34m(self, messages, model, frequency_penalty, function_call, functions, logit_bias, logprobs, max_tokens, n, parallel_tool_calls, presence_penalty, response_format, seed, stop, stream, temperature, tool_choice, tools, top_logprobs, top_p, user, extra_headers, extra_query, extra_body, timeout)\u001b[0m\n\u001b[1;32m    146\u001b[0m \u001b[38;5;28;01mdef\u001b[39;00m \u001b[38;5;21mcreate\u001b[39m(\n\u001b[1;32m    147\u001b[0m     \u001b[38;5;28mself\u001b[39m,\n\u001b[1;32m    148\u001b[0m     \u001b[38;5;241m*\u001b[39m,\n\u001b[0;32m   (...)\u001b[0m\n\u001b[1;32m    175\u001b[0m     timeout: \u001b[38;5;28mfloat\u001b[39m \u001b[38;5;241m|\u001b[39m httpx\u001b[38;5;241m.\u001b[39mTimeout \u001b[38;5;241m|\u001b[39m \u001b[38;5;28;01mNone\u001b[39;00m \u001b[38;5;241m|\u001b[39m NotGiven \u001b[38;5;241m=\u001b[39m NOT_GIVEN,\n\u001b[1;32m    176\u001b[0m ) \u001b[38;5;241m-\u001b[39m\u001b[38;5;241m>\u001b[39m ChatCompletion \u001b[38;5;241m|\u001b[39m Stream[ChatCompletionChunk]:\n\u001b[1;32m    177\u001b[0m \u001b[38;5;250m    \u001b[39m\u001b[38;5;124;03m\"\"\"\u001b[39;00m\n\u001b[1;32m    178\u001b[0m \u001b[38;5;124;03m    Creates a model response for the given chat conversation.\u001b[39;00m\n\u001b[1;32m    179\u001b[0m \n\u001b[0;32m   (...)\u001b[0m\n\u001b[1;32m    285\u001b[0m \u001b[38;5;124;03m      timeout: Override the client-level default timeout for this request, in seconds\u001b[39;00m\n\u001b[1;32m    286\u001b[0m \u001b[38;5;124;03m    \"\"\"\u001b[39;00m\n\u001b[0;32m--> 287\u001b[0m     \u001b[38;5;28;01mreturn\u001b[39;00m \u001b[38;5;28;43mself\u001b[39;49m\u001b[38;5;241;43m.\u001b[39;49m\u001b[43m_post\u001b[49m\u001b[43m(\u001b[49m\n\u001b[1;32m    288\u001b[0m \u001b[43m        \u001b[49m\u001b[38;5;124;43m\"\u001b[39;49m\u001b[38;5;124;43m/openai/v1/chat/completions\u001b[39;49m\u001b[38;5;124;43m\"\u001b[39;49m\u001b[43m,\u001b[49m\n\u001b[1;32m    289\u001b[0m \u001b[43m        \u001b[49m\u001b[43mbody\u001b[49m\u001b[38;5;241;43m=\u001b[39;49m\u001b[43mmaybe_transform\u001b[49m\u001b[43m(\u001b[49m\n\u001b[1;32m    290\u001b[0m \u001b[43m            \u001b[49m\u001b[43m{\u001b[49m\n\u001b[1;32m    291\u001b[0m \u001b[43m                \u001b[49m\u001b[38;5;124;43m\"\u001b[39;49m\u001b[38;5;124;43mmessages\u001b[39;49m\u001b[38;5;124;43m\"\u001b[39;49m\u001b[43m:\u001b[49m\u001b[43m \u001b[49m\u001b[43mmessages\u001b[49m\u001b[43m,\u001b[49m\n\u001b[1;32m    292\u001b[0m \u001b[43m                \u001b[49m\u001b[38;5;124;43m\"\u001b[39;49m\u001b[38;5;124;43mmodel\u001b[39;49m\u001b[38;5;124;43m\"\u001b[39;49m\u001b[43m:\u001b[49m\u001b[43m \u001b[49m\u001b[43mmodel\u001b[49m\u001b[43m,\u001b[49m\n\u001b[1;32m    293\u001b[0m \u001b[43m                \u001b[49m\u001b[38;5;124;43m\"\u001b[39;49m\u001b[38;5;124;43mfrequency_penalty\u001b[39;49m\u001b[38;5;124;43m\"\u001b[39;49m\u001b[43m:\u001b[49m\u001b[43m \u001b[49m\u001b[43mfrequency_penalty\u001b[49m\u001b[43m,\u001b[49m\n\u001b[1;32m    294\u001b[0m \u001b[43m                \u001b[49m\u001b[38;5;124;43m\"\u001b[39;49m\u001b[38;5;124;43mfunction_call\u001b[39;49m\u001b[38;5;124;43m\"\u001b[39;49m\u001b[43m:\u001b[49m\u001b[43m \u001b[49m\u001b[43mfunction_call\u001b[49m\u001b[43m,\u001b[49m\n\u001b[1;32m    295\u001b[0m \u001b[43m                \u001b[49m\u001b[38;5;124;43m\"\u001b[39;49m\u001b[38;5;124;43mfunctions\u001b[39;49m\u001b[38;5;124;43m\"\u001b[39;49m\u001b[43m:\u001b[49m\u001b[43m \u001b[49m\u001b[43mfunctions\u001b[49m\u001b[43m,\u001b[49m\n\u001b[1;32m    296\u001b[0m \u001b[43m                \u001b[49m\u001b[38;5;124;43m\"\u001b[39;49m\u001b[38;5;124;43mlogit_bias\u001b[39;49m\u001b[38;5;124;43m\"\u001b[39;49m\u001b[43m:\u001b[49m\u001b[43m \u001b[49m\u001b[43mlogit_bias\u001b[49m\u001b[43m,\u001b[49m\n\u001b[1;32m    297\u001b[0m \u001b[43m                \u001b[49m\u001b[38;5;124;43m\"\u001b[39;49m\u001b[38;5;124;43mlogprobs\u001b[39;49m\u001b[38;5;124;43m\"\u001b[39;49m\u001b[43m:\u001b[49m\u001b[43m \u001b[49m\u001b[43mlogprobs\u001b[49m\u001b[43m,\u001b[49m\n\u001b[1;32m    298\u001b[0m \u001b[43m                \u001b[49m\u001b[38;5;124;43m\"\u001b[39;49m\u001b[38;5;124;43mmax_tokens\u001b[39;49m\u001b[38;5;124;43m\"\u001b[39;49m\u001b[43m:\u001b[49m\u001b[43m \u001b[49m\u001b[43mmax_tokens\u001b[49m\u001b[43m,\u001b[49m\n\u001b[1;32m    299\u001b[0m \u001b[43m                \u001b[49m\u001b[38;5;124;43m\"\u001b[39;49m\u001b[38;5;124;43mn\u001b[39;49m\u001b[38;5;124;43m\"\u001b[39;49m\u001b[43m:\u001b[49m\u001b[43m \u001b[49m\u001b[43mn\u001b[49m\u001b[43m,\u001b[49m\n\u001b[1;32m    300\u001b[0m \u001b[43m                \u001b[49m\u001b[38;5;124;43m\"\u001b[39;49m\u001b[38;5;124;43mparallel_tool_calls\u001b[39;49m\u001b[38;5;124;43m\"\u001b[39;49m\u001b[43m:\u001b[49m\u001b[43m \u001b[49m\u001b[43mparallel_tool_calls\u001b[49m\u001b[43m,\u001b[49m\n\u001b[1;32m    301\u001b[0m \u001b[43m                \u001b[49m\u001b[38;5;124;43m\"\u001b[39;49m\u001b[38;5;124;43mpresence_penalty\u001b[39;49m\u001b[38;5;124;43m\"\u001b[39;49m\u001b[43m:\u001b[49m\u001b[43m \u001b[49m\u001b[43mpresence_penalty\u001b[49m\u001b[43m,\u001b[49m\n\u001b[1;32m    302\u001b[0m \u001b[43m                \u001b[49m\u001b[38;5;124;43m\"\u001b[39;49m\u001b[38;5;124;43mresponse_format\u001b[39;49m\u001b[38;5;124;43m\"\u001b[39;49m\u001b[43m:\u001b[49m\u001b[43m \u001b[49m\u001b[43mresponse_format\u001b[49m\u001b[43m,\u001b[49m\n\u001b[1;32m    303\u001b[0m \u001b[43m                \u001b[49m\u001b[38;5;124;43m\"\u001b[39;49m\u001b[38;5;124;43mseed\u001b[39;49m\u001b[38;5;124;43m\"\u001b[39;49m\u001b[43m:\u001b[49m\u001b[43m \u001b[49m\u001b[43mseed\u001b[49m\u001b[43m,\u001b[49m\n\u001b[1;32m    304\u001b[0m \u001b[43m                \u001b[49m\u001b[38;5;124;43m\"\u001b[39;49m\u001b[38;5;124;43mstop\u001b[39;49m\u001b[38;5;124;43m\"\u001b[39;49m\u001b[43m:\u001b[49m\u001b[43m \u001b[49m\u001b[43mstop\u001b[49m\u001b[43m,\u001b[49m\n\u001b[1;32m    305\u001b[0m \u001b[43m                \u001b[49m\u001b[38;5;124;43m\"\u001b[39;49m\u001b[38;5;124;43mstream\u001b[39;49m\u001b[38;5;124;43m\"\u001b[39;49m\u001b[43m:\u001b[49m\u001b[43m \u001b[49m\u001b[43mstream\u001b[49m\u001b[43m,\u001b[49m\n\u001b[1;32m    306\u001b[0m \u001b[43m                \u001b[49m\u001b[38;5;124;43m\"\u001b[39;49m\u001b[38;5;124;43mtemperature\u001b[39;49m\u001b[38;5;124;43m\"\u001b[39;49m\u001b[43m:\u001b[49m\u001b[43m \u001b[49m\u001b[43mtemperature\u001b[49m\u001b[43m,\u001b[49m\n\u001b[1;32m    307\u001b[0m \u001b[43m                \u001b[49m\u001b[38;5;124;43m\"\u001b[39;49m\u001b[38;5;124;43mtool_choice\u001b[39;49m\u001b[38;5;124;43m\"\u001b[39;49m\u001b[43m:\u001b[49m\u001b[43m \u001b[49m\u001b[43mtool_choice\u001b[49m\u001b[43m,\u001b[49m\n\u001b[1;32m    308\u001b[0m \u001b[43m                \u001b[49m\u001b[38;5;124;43m\"\u001b[39;49m\u001b[38;5;124;43mtools\u001b[39;49m\u001b[38;5;124;43m\"\u001b[39;49m\u001b[43m:\u001b[49m\u001b[43m \u001b[49m\u001b[43mtools\u001b[49m\u001b[43m,\u001b[49m\n\u001b[1;32m    309\u001b[0m \u001b[43m                \u001b[49m\u001b[38;5;124;43m\"\u001b[39;49m\u001b[38;5;124;43mtop_logprobs\u001b[39;49m\u001b[38;5;124;43m\"\u001b[39;49m\u001b[43m:\u001b[49m\u001b[43m \u001b[49m\u001b[43mtop_logprobs\u001b[49m\u001b[43m,\u001b[49m\n\u001b[1;32m    310\u001b[0m \u001b[43m                \u001b[49m\u001b[38;5;124;43m\"\u001b[39;49m\u001b[38;5;124;43mtop_p\u001b[39;49m\u001b[38;5;124;43m\"\u001b[39;49m\u001b[43m:\u001b[49m\u001b[43m \u001b[49m\u001b[43mtop_p\u001b[49m\u001b[43m,\u001b[49m\n\u001b[1;32m    311\u001b[0m \u001b[43m                \u001b[49m\u001b[38;5;124;43m\"\u001b[39;49m\u001b[38;5;124;43muser\u001b[39;49m\u001b[38;5;124;43m\"\u001b[39;49m\u001b[43m:\u001b[49m\u001b[43m \u001b[49m\u001b[43muser\u001b[49m\u001b[43m,\u001b[49m\n\u001b[1;32m    312\u001b[0m \u001b[43m            \u001b[49m\u001b[43m}\u001b[49m\u001b[43m,\u001b[49m\n\u001b[1;32m    313\u001b[0m \u001b[43m            \u001b[49m\u001b[43mcompletion_create_params\u001b[49m\u001b[38;5;241;43m.\u001b[39;49m\u001b[43mCompletionCreateParams\u001b[49m\u001b[43m,\u001b[49m\n\u001b[1;32m    314\u001b[0m \u001b[43m        \u001b[49m\u001b[43m)\u001b[49m\u001b[43m,\u001b[49m\n\u001b[1;32m    315\u001b[0m \u001b[43m        \u001b[49m\u001b[43moptions\u001b[49m\u001b[38;5;241;43m=\u001b[39;49m\u001b[43mmake_request_options\u001b[49m\u001b[43m(\u001b[49m\n\u001b[1;32m    316\u001b[0m \u001b[43m            \u001b[49m\u001b[43mextra_headers\u001b[49m\u001b[38;5;241;43m=\u001b[39;49m\u001b[43mextra_headers\u001b[49m\u001b[43m,\u001b[49m\u001b[43m \u001b[49m\u001b[43mextra_query\u001b[49m\u001b[38;5;241;43m=\u001b[39;49m\u001b[43mextra_query\u001b[49m\u001b[43m,\u001b[49m\u001b[43m \u001b[49m\u001b[43mextra_body\u001b[49m\u001b[38;5;241;43m=\u001b[39;49m\u001b[43mextra_body\u001b[49m\u001b[43m,\u001b[49m\u001b[43m \u001b[49m\u001b[43mtimeout\u001b[49m\u001b[38;5;241;43m=\u001b[39;49m\u001b[43mtimeout\u001b[49m\n\u001b[1;32m    317\u001b[0m \u001b[43m        \u001b[49m\u001b[43m)\u001b[49m\u001b[43m,\u001b[49m\n\u001b[1;32m    318\u001b[0m \u001b[43m        \u001b[49m\u001b[43mcast_to\u001b[49m\u001b[38;5;241;43m=\u001b[39;49m\u001b[43mChatCompletion\u001b[49m\u001b[43m,\u001b[49m\n\u001b[1;32m    319\u001b[0m \u001b[43m        \u001b[49m\u001b[43mstream\u001b[49m\u001b[38;5;241;43m=\u001b[39;49m\u001b[43mstream\u001b[49m\u001b[43m \u001b[49m\u001b[38;5;129;43;01mor\u001b[39;49;00m\u001b[43m \u001b[49m\u001b[38;5;28;43;01mFalse\u001b[39;49;00m\u001b[43m,\u001b[49m\n\u001b[1;32m    320\u001b[0m \u001b[43m        \u001b[49m\u001b[43mstream_cls\u001b[49m\u001b[38;5;241;43m=\u001b[39;49m\u001b[43mStream\u001b[49m\u001b[43m[\u001b[49m\u001b[43mChatCompletionChunk\u001b[49m\u001b[43m]\u001b[49m\u001b[43m,\u001b[49m\n\u001b[1;32m    321\u001b[0m \u001b[43m    \u001b[49m\u001b[43m)\u001b[49m\n",
      "File \u001b[0;32m/opt/homebrew/lib/python3.9/site-packages/groq/_base_client.py:1244\u001b[0m, in \u001b[0;36mSyncAPIClient.post\u001b[0;34m(self, path, cast_to, body, options, files, stream, stream_cls)\u001b[0m\n\u001b[1;32m   1230\u001b[0m \u001b[38;5;28;01mdef\u001b[39;00m \u001b[38;5;21mpost\u001b[39m(\n\u001b[1;32m   1231\u001b[0m     \u001b[38;5;28mself\u001b[39m,\n\u001b[1;32m   1232\u001b[0m     path: \u001b[38;5;28mstr\u001b[39m,\n\u001b[0;32m   (...)\u001b[0m\n\u001b[1;32m   1239\u001b[0m     stream_cls: \u001b[38;5;28mtype\u001b[39m[_StreamT] \u001b[38;5;241m|\u001b[39m \u001b[38;5;28;01mNone\u001b[39;00m \u001b[38;5;241m=\u001b[39m \u001b[38;5;28;01mNone\u001b[39;00m,\n\u001b[1;32m   1240\u001b[0m ) \u001b[38;5;241m-\u001b[39m\u001b[38;5;241m>\u001b[39m ResponseT \u001b[38;5;241m|\u001b[39m _StreamT:\n\u001b[1;32m   1241\u001b[0m     opts \u001b[38;5;241m=\u001b[39m FinalRequestOptions\u001b[38;5;241m.\u001b[39mconstruct(\n\u001b[1;32m   1242\u001b[0m         method\u001b[38;5;241m=\u001b[39m\u001b[38;5;124m\"\u001b[39m\u001b[38;5;124mpost\u001b[39m\u001b[38;5;124m\"\u001b[39m, url\u001b[38;5;241m=\u001b[39mpath, json_data\u001b[38;5;241m=\u001b[39mbody, files\u001b[38;5;241m=\u001b[39mto_httpx_files(files), \u001b[38;5;241m*\u001b[39m\u001b[38;5;241m*\u001b[39moptions\n\u001b[1;32m   1243\u001b[0m     )\n\u001b[0;32m-> 1244\u001b[0m     \u001b[38;5;28;01mreturn\u001b[39;00m cast(ResponseT, \u001b[38;5;28;43mself\u001b[39;49m\u001b[38;5;241;43m.\u001b[39;49m\u001b[43mrequest\u001b[49m\u001b[43m(\u001b[49m\u001b[43mcast_to\u001b[49m\u001b[43m,\u001b[49m\u001b[43m \u001b[49m\u001b[43mopts\u001b[49m\u001b[43m,\u001b[49m\u001b[43m \u001b[49m\u001b[43mstream\u001b[49m\u001b[38;5;241;43m=\u001b[39;49m\u001b[43mstream\u001b[49m\u001b[43m,\u001b[49m\u001b[43m \u001b[49m\u001b[43mstream_cls\u001b[49m\u001b[38;5;241;43m=\u001b[39;49m\u001b[43mstream_cls\u001b[49m\u001b[43m)\u001b[49m)\n",
      "File \u001b[0;32m/opt/homebrew/lib/python3.9/site-packages/groq/_base_client.py:936\u001b[0m, in \u001b[0;36mSyncAPIClient.request\u001b[0;34m(self, cast_to, options, remaining_retries, stream, stream_cls)\u001b[0m\n\u001b[1;32m    927\u001b[0m \u001b[38;5;28;01mdef\u001b[39;00m \u001b[38;5;21mrequest\u001b[39m(\n\u001b[1;32m    928\u001b[0m     \u001b[38;5;28mself\u001b[39m,\n\u001b[1;32m    929\u001b[0m     cast_to: Type[ResponseT],\n\u001b[0;32m   (...)\u001b[0m\n\u001b[1;32m    934\u001b[0m     stream_cls: \u001b[38;5;28mtype\u001b[39m[_StreamT] \u001b[38;5;241m|\u001b[39m \u001b[38;5;28;01mNone\u001b[39;00m \u001b[38;5;241m=\u001b[39m \u001b[38;5;28;01mNone\u001b[39;00m,\n\u001b[1;32m    935\u001b[0m ) \u001b[38;5;241m-\u001b[39m\u001b[38;5;241m>\u001b[39m ResponseT \u001b[38;5;241m|\u001b[39m _StreamT:\n\u001b[0;32m--> 936\u001b[0m     \u001b[38;5;28;01mreturn\u001b[39;00m \u001b[38;5;28;43mself\u001b[39;49m\u001b[38;5;241;43m.\u001b[39;49m\u001b[43m_request\u001b[49m\u001b[43m(\u001b[49m\n\u001b[1;32m    937\u001b[0m \u001b[43m        \u001b[49m\u001b[43mcast_to\u001b[49m\u001b[38;5;241;43m=\u001b[39;49m\u001b[43mcast_to\u001b[49m\u001b[43m,\u001b[49m\n\u001b[1;32m    938\u001b[0m \u001b[43m        \u001b[49m\u001b[43moptions\u001b[49m\u001b[38;5;241;43m=\u001b[39;49m\u001b[43moptions\u001b[49m\u001b[43m,\u001b[49m\n\u001b[1;32m    939\u001b[0m \u001b[43m        \u001b[49m\u001b[43mstream\u001b[49m\u001b[38;5;241;43m=\u001b[39;49m\u001b[43mstream\u001b[49m\u001b[43m,\u001b[49m\n\u001b[1;32m    940\u001b[0m \u001b[43m        \u001b[49m\u001b[43mstream_cls\u001b[49m\u001b[38;5;241;43m=\u001b[39;49m\u001b[43mstream_cls\u001b[49m\u001b[43m,\u001b[49m\n\u001b[1;32m    941\u001b[0m \u001b[43m        \u001b[49m\u001b[43mremaining_retries\u001b[49m\u001b[38;5;241;43m=\u001b[39;49m\u001b[43mremaining_retries\u001b[49m\u001b[43m,\u001b[49m\n\u001b[1;32m    942\u001b[0m \u001b[43m    \u001b[49m\u001b[43m)\u001b[49m\n",
      "File \u001b[0;32m/opt/homebrew/lib/python3.9/site-packages/groq/_base_client.py:1039\u001b[0m, in \u001b[0;36mSyncAPIClient._request\u001b[0;34m(self, cast_to, options, remaining_retries, stream, stream_cls)\u001b[0m\n\u001b[1;32m   1036\u001b[0m         err\u001b[38;5;241m.\u001b[39mresponse\u001b[38;5;241m.\u001b[39mread()\n\u001b[1;32m   1038\u001b[0m     log\u001b[38;5;241m.\u001b[39mdebug(\u001b[38;5;124m\"\u001b[39m\u001b[38;5;124mRe-raising status error\u001b[39m\u001b[38;5;124m\"\u001b[39m)\n\u001b[0;32m-> 1039\u001b[0m     \u001b[38;5;28;01mraise\u001b[39;00m \u001b[38;5;28mself\u001b[39m\u001b[38;5;241m.\u001b[39m_make_status_error_from_response(err\u001b[38;5;241m.\u001b[39mresponse) \u001b[38;5;28;01mfrom\u001b[39;00m \u001b[38;5;28;01mNone\u001b[39;00m\n\u001b[1;32m   1041\u001b[0m \u001b[38;5;28;01mreturn\u001b[39;00m \u001b[38;5;28mself\u001b[39m\u001b[38;5;241m.\u001b[39m_process_response(\n\u001b[1;32m   1042\u001b[0m     cast_to\u001b[38;5;241m=\u001b[39mcast_to,\n\u001b[1;32m   1043\u001b[0m     options\u001b[38;5;241m=\u001b[39moptions,\n\u001b[0;32m   (...)\u001b[0m\n\u001b[1;32m   1047\u001b[0m     retries_taken\u001b[38;5;241m=\u001b[39moptions\u001b[38;5;241m.\u001b[39mget_max_retries(\u001b[38;5;28mself\u001b[39m\u001b[38;5;241m.\u001b[39mmax_retries) \u001b[38;5;241m-\u001b[39m retries,\n\u001b[1;32m   1048\u001b[0m )\n",
      "\u001b[0;31mRateLimitError\u001b[0m: Error code: 429 - {'error': {'message': 'Rate limit reached for model `llama3-8b-8192` in organization `org_01jagmgwcafe7t4whts5etten7` on : Limit 500000, Used 497987, Requested 2763. Please try again in 2m9.4316s. Visit https://console.groq.com/docs/rate-limits for more information.', 'type': '', 'code': 'rate_limit_exceeded'}}"
     ]
    }
   ],
   "source": [
    "# generate synthetic queries using LLM\n",
    "# Groq limits 30 requests / minute\n",
    "# Let's run it for 30 minutes: 900 total requests\n",
    "# If we send it 25 descriptions per request\n",
    "# total, 22500 training samples\n",
    "import json\n",
    "\n",
    "request_per_hour = 900\n",
    "window_size = 25\n",
    "total_samples = request_per_hour * window_size\n",
    "samples = list_data[:total_samples]\n",
    "train_data = []\n",
    "\n",
    "def product_doc(window):\n",
    "    doc = {}\n",
    "    for product in window:\n",
    "        doc.update(product)\n",
    "    return doc\n",
    "\n",
    "def format_training_data(llm_answer, products):\n",
    "    questions = []\n",
    "    try:\n",
    "        json_str = llm_answer.split('```')[1]\n",
    "        qa = json.loads(json_str)\n",
    "        for pair in qa:\n",
    "            name = pair['name']\n",
    "            if name in products:\n",
    "                question = {\n",
    "                    'q': pair['question'],\n",
    "                    'a': products[name],\n",
    "                }\n",
    "                questions.append(question)\n",
    "    except Exception as e:\n",
    "        print(e)\n",
    "    return questions\n",
    "\n",
    "for i in range(total_samples - window_size + 1):\n",
    "    window = product_doc(samples[i: i + window_size])\n",
    "    chat_completion = client.chat.completions.create(\n",
    "        messages=[\n",
    "            {\n",
    "                \"role\": \"system\",\n",
    "                \"content\": \"Come up with one question for each of the product. Output as json format: ```{ name: [product name], question: [question] }```.\",\n",
    "            },\n",
    "            {\n",
    "                \"role\": \"user\",\n",
    "                \"content\": \"\\n\".join(window.values()),\n",
    "            }\n",
    "        ],\n",
    "        model=\"llama3-8b-8192\",\n",
    "    )\n",
    "    \n",
    "    data = format_training_data(chat_completion.choices[0].message.content, window)\n",
    "    train_data.extend(data)\n",
    "\n",
    "print(f\"created {len(train_data)} question & answer pairs\")"
   ]
  },
  {
   "cell_type": "code",
   "execution_count": 1,
   "id": "00c99e23-d60d-4bf3-a35a-7182228b16ec",
   "metadata": {
    "scrolled": true
   },
   "outputs": [],
   "source": [
    "# example training data\n",
    "\n",
    "# train_data = [{'q': 'What is the spice level of this mustard?',\n",
    "#   'a': \"Product Name: Wickedly Prime Mustard, White Wine Jalapeno, 11.75 Ounce\\n- bullet points: One 11.75-ounce pastic squeeze bottle,Spice Level: Medium,Packed on shared equipment with egg, wheat, soy, milk, fish,Shown as serving suggestion,Satisfaction Guarantee: We're proud of our products. If you aren't satisfied, we'll refund you for any reason within a year of purchase. 1-877-485-0385,An Amazon brand\"},\n",
    "#  {'q': 'What are the unique characteristics of each gemstone in this jewelry piece?',\n",
    "#   'a': 'Product Name: 10k White Gold Swiss-Blue-Topaz and Diamond Accent Flame Drop Earrings\\n- bullet points: An elegant design highlights colorful gemstone and diamond accents,Lever-back closure,The natural properties and composition of mined gemstones define the unique beauty of each piece. The image may show slight differences to the actual stone in color and texture.,Gemstones may have been treated to improve their appearance or durability and may require special care.,All our diamond suppliers confirm that they comply with the Kimberley Process to ensure that their diamonds are conflict free.,Imported'},\n",
    "#  {'q': 'What materials are used in the construction of this loveseat?',\n",
    "#   'a': 'Product Name: Amazon Brand – Rivet Canton Deep Mid-Century Modern Loveseat Sofa Couch, 76.7\"W, White\\n- bullet points: Crafted with postmodern flair, this creamy white loveseat with tapered wooden legs will enliven any modern living space while also providing comfort and durability. Easy to clean and maintain, this is a loveseat for the modern home.,76.7\"W x 40.2\"D x 34.3\"H; seat height: 18.5\"; seat depth: 32.3\"; seat back height: 20.9\"; arm height: 26.37\"; leg height: 6.3\",Solid wood frame and legs with 100% polyester upholstery,The tight, fixed back and removable cushions ensure durability and comfort.,This stunning work of craftsmanship takes the very best of modern design and reinvents it for the now.,Assemble in 15 minutes or less,Avoid moisture and wipe clean with soft, dry cloth.,Free returns for 30 days. 1-year warranty.'},\n",
    "#  {'q': 'What are the features of this modern sectional sofa?',\n",
    "#   'a': 'Product Name: Amazon Brand – Rivet Edgewest Low Back Modern Left U-Sectional, 117\"W, Rouge Red\\n- bullet points: Features such as track arms, box-edge framing and metal legs make this collection look sharp in modern or industrial settings. Back and seat cushions are reversible, and the pieces can be configured in many ways to accommodate family and friends.,117\"W x 79\"D x 32\"H; Seat Height: 19\"H ; Seat Depth: 23\"D; Seat Back Height: 25\"H; Arm Height: 25\"H; Leg Height: 5.25\"H,Polyester fabric on hardwood pine frame; metal legs with bronze finish,Crisp, clean lines and metal legs are hallmarks of contemporary style,Carefully crafted with a solid wood frame to ensure durability,Easy assembly in less than 15 minutes; just screw in legs,Free returns for 30 days. 1-year warranty.'},\n",
    "#  {'q': 'What are the features and benefits of this ballet flat?',\n",
    "#   'a': \"Product Name: Amazon Essentials Women's Ballet Flat, Leopard Knit, 6.5 B US\\n- bullet points: Classic and versatile ballet flat designed for daily wear and superior fit; a staple in every woman’s wardrobe,Casual silhouette with round toe shape and flattering profile and soft, mesh upper with gently elasticized topline,Sweat absorbent faux leather sock with natural hand and feel and padded insole with 8mm high quality memory for supreme cushioning and comfort,Genuine leather counter lining with “Heel-Pillow” comfort technology,Ultra flexible, lightweight, and durable TR outsole with minimalist heel, and traction grip forepart\"},\n",
    "#  {'q': 'What are the nutritional benefits and certifications of these almonds?',\n",
    "#   'a': 'Product Name: 365 Everyday Value, Almonds, Roasted & Salted, 8 oz\\n- bullet points: Good source of fiber.,Excellent source of Vitamin E & Magnesium.,Made with sea salt.,Certified GMO-Free, Certified Kosher, Certified Vegan.,Brought to you by Whole Foods Market. Our standards are what set us apart, and our quality is what keeps us stocking pantries, fridges and freezers with the best natural and organic 365 Everyday Value products every day.'},\n",
    "#  {'q': 'What are the coffee beans used in this medium roast coffee?',\n",
    "#   'a': 'Product Name: AmazonFresh Hazelnut Flavored Coffee, Ground, Medium Roast, 1.75 Ounce\\n- bullet points: Fragrant medium-light roast with toasted hazelnut flavor,One 1.75-ounce bag of ground coffee,100% Arabica coffee grown in Central and South America,Roasted and packed in the U.S.A.,Shown as a serving suggestion'},\n",
    "#  {'q': 'What are the features and benefits of this shredder and lubricant set?',\n",
    "#   'a': 'Product Name: AmazonBasics 6-Sheet Cross-Cut Paper and Credit Card Shredder and Aleratec Shredder Lubricant Sheets (Pack of 12) Set\\n- bullet points: Includes an AmazonBasics 6-Sheet Cross-Cut Paper and Credit Card Shredder and Aleratec Shredder Lubricant Sheets (Pack of 12),Cross-cut paper shredder with 6-sheet capacity; destroys credit cards (one at a time),Shreds paper into strips measuring 7/32 by 1-27/32 inches; Auto start and manual reverse to clear paper jams,Shredder lubricant sheets reduce blade friction optimizing shredder performance; Sheet Size: 8 1/2\" x 6\",Lubricant sheets made with sugar cane pulp,vegetable oil (soybean oil) and recycled paper'},\n",
    "#  {'q': 'What are the origins and certifications of these whole black peppercorns?',\n",
    "#   'a': 'Product Name: 365 EVERYDAY VALUE Whole Black Peppercorns, 1.87 OZ\\n- bullet points: Brought to you by Whole Foods Market.\\xa0 The packaging for this product has a fresh new look. During this transition, you may get the original packaging or the new packaging in your order, but the product and quality is staying exactly the same. Enjoy!,Product of Vietnam.,Certified GMO-Free, Certified Kosher.'},\n",
    "#  {'q': 'What are the characteristics and certifications of this olive oil?',\n",
    "#   'a': 'Product Name: Whole Foods Market, Extra Virgin Olive Oil of Portugal, 33.8 fl oz\\n- bullet points: Made exclusively with arbequina olives grown in Portugal, this oil owes its distinctive character to rich soil that has cultivated olives for thousands of years. Fruity yet smooth with notes of fresh almonds.,This oil is best used raw in order to preserve its delicate properties.,Certified GMO-Free, Certified Kosher, Certified Vegan.,Brought to you by Whole Foods Market. When it comes to innovative flavors and products sourced from artisans and producers around the world, the Whole Foods Market brand has you covered. Amazing products, exceptional ingredients, no compromises.,North American Olive Oil Association Certified Quality. Tested for quality to meet international olive oil standards. Product of Portugal.'},\n",
    "#  {'q': 'What are the benefits and features of this omega-3 supplement?',\n",
    "#   'a': 'Product Name: Whole Foods Market, Omega Joint Care, 90 ct\\n- bullet points: Brought to you by Whole Foods Market,1065mg total omega-3s,Essential fatty acids'},\n",
    "#  {'q': 'What are the features and benefits of these removable round labels?',\n",
    "#   'a': 'Product Name: AmazonBasics Removable Round Labels, 1-Inch Diameter, White, Pack of 945\\n- bullet points: Sticky-back, white, removable round labels formatted for laser and inkjet printers,Includes 15 sheets ; 63 labels per sheet; 945 labels per package,Ideal for sealing envelopes, making branded labels, personalized stickers, and more,Permanent adhesive bonds easily to paper products and other surfaces,Individual labels measure 1.5 inches in diameter each; printable sheet is 8.5 x 11 inches,Avery reference #: 6450'},\n",
    "#  {'q': 'What are the characteristics and care instructions for this platinum-plated ring?',\n",
    "#   'a': 'Product Name: Platinum Plated Sterling Silver Swarovski Zirconia Round Cut Halo Ring\\n- bullet points: These silver pieces are built for longevity. This piece features a metal plating or flashing, or an electrocoating for a more lustrous appearance, but it can wear off with long-term or heavy use. To ensure the longevity of your plated items store your jewelry in a dark, cool, dry place such as a pouch or air tight box and avoid rubbing plated items together.\\xa0Also try to avoid exposure to cleaning products and perfume which can both negatively affect your items. Your local jeweler can advise you where to send your jewelry if you would ever like them replated.'},\n",
    "#  {'q': 'What are the origins and certifications of these poppy seeds?',\n",
    "#   'a': 'Product Name: 365 Everyday Value, Poppy Seed, 2.4 oz\\n- bullet points: Brought to you by Whole Foods Market.  Our standards are what set us apart, and our quality is what keeps us stocking pantries, fridges and freezers with the best natural and organic 365 Everyday Value products every day.,Product of Turkey.,Certified GMO-Free, Certified Kosher.'},\n",
    "#  {'q': 'What are the features and benefits of this sectional sofa?',\n",
    "#   'a': 'Product Name: Amazon Brand – Stone & Beam Andover Slipcover Right-Facing L-Shaped Sectional, 124\"W, Stone Fabric\\n- bullet points: Complete your living space with this stylish sectional. With its stone-colored upholstery, this sectional is an ideal accent for transitional-style home decor. The solid-wood frame is stable, and reversible cushions enhance durability and extend this sectional’s life.,Overall: 124\"W x 96\"D x 33\"H; seat height: 21\"H; seat depth: 25\"D; seat back height: 28\"H; arm height: 28\"H; leg height: 4.25\"H,Sturdy wood frame with stain-resistant fabric,Transitional style blends well with a variety of home-decor themes.,Back and seat cushions are reversible so you can choose the configuration that\\'s right for you.,Assemble in 15 minutes or less,Free returns for 30 days. 3-year warranty.,This item is made to order just for you.'},\n",
    "#  {'q': 'What are the features and benefits of this hemp-colored barstool?',\n",
    "#   'a': 'Product Name: Amazon Brand – Stone & Beam Esme Memory-Swivel Barstool, 43.3\"H, Hemp\\n- bullet points: Add some stylish seating to your next get-together or party with this wingback barstool. This tall hemp-colored barstool features a memory swivel that returns the seat to its proper position every time. It will easily complement your contemporary kitchen or transitional bar.,20.1\"W x 22.4\"D x 43.3\"H; seat height: 29.9\"H; seat depth: 16.5\"D; seat back height: 18.5\"H; leg height: 24.8\"H,Solid hardwood frame with moisture-repellent, stain-resistant fabric,A memory-swivel mechanism means this barstool always looks tidy.,Classic transitional look with memory swivel,No assembly required,Avoid moisture. Wipe clean with a soft, dry cloth.,Free returns for 30 days. 3-year warranty.'},\n",
    "#  {'q': 'What are the ingredients and features of this Thai-style coconut chicken soup?',\n",
    "#   'a': 'Product Name: Wickedly Prime Thai-Style Coconut Chicken Soup, 17 Ounce\\n- bullet points: One 17-ounce carton,Contains coconut,Bean sprouts are serving suggestion only,An Amazon brand,One 17-ounce carton,Contains coconut,Bean sprouts are serving suggestion only,An Amazon brand'},\n",
    "#  {'q': 'What are the features and benefits of this commercial-grade replacement cushion?',\n",
    "#   'a': 'Product Name: Strathwood Chaise Lounge Replacement Cushion, Daiquri\\n- bullet points: Commercial grade, built for superiority and strength'},\n",
    "#  {'q': 'What are the features and certifications of this mild cheddar cheese bar?',\n",
    "#   'a': 'Product Name: 365 by Whole Foods Market, Cheese Bar, Mild Cheddar, 8 Ounce (Packaging May Vary)\\n- bullet points: Brought to you by Whole Foods Market. The packaging for this product has a fresh new look. During this transition, you may get the original packaging or the new packaging in your order, but the product and quality is staying exactly the same. Enjoy!,Produced Without Added Hormones (made with milk from cows not treated with rBST).,Keep Refrigerated.,Certified Vegetarian.'},\n",
    "#  {'q': 'What are the features and benefits of this silver leaning garment rack?',\n",
    "#   'a': 'Product Name: AmazonBasics Leaning Garment Rack, Silver\\n- bullet points: Wall-leaning garment rack for clothing, linens, jackets, and more,Sturdy wooden bar for hangers or draping,Use in the bedroom, laundry room, foyer, or anywhere garment hanging is useful,Steel tube construction offers both durability and a lightweight design,Minimal, modern look that easily complements existing décor; silver color,Easy assembly'},\n",
    "#  {'q': 'What are the features and benefits of this firm styling gel?',\n",
    "#   'a': \"Product Name: Amazon Brand - Solimo Men's Firm Styling Gel, 8.4oz (Pack of 3)\\n- bullet points: Three 8.4-fluid ounce bottles of Solimo Men's Firm Styling Gel,Satisfaction Guarantee: We're proud of our products. If you aren't satisfied, we'll refund you for any reason within a year of purchase. 1-877-485-0385,An Amazon Brand\"},\n",
    "#  {'q': 'What are the features and benefits of this dark brown Adirondack chair?',\n",
    "#   'a': 'Product Name: Strathwood Adirondack Chair with Cupholder, Dark Brown\\n- bullet points: Classically designed Adirondack chair offers style and comfort,Made of FSC-certified eucalyptus; available in chocolate brown stain or white painted finish,Vertically slatted backrest, curved seat, and oversized armrests with cup holder,Minimal assembly required; coordinates with matching ottoman (sold separately),Measures 34 inches long by 27.5 inches wide by 37.4 inches high'},\n",
    "#  {'q': 'What are the features and certifications of these USDA-organic scuba snacks?',\n",
    "#   'a': 'Product Name: 365 Everyday Value Featuring Wild Kratts, Organic Scuba Snacks, White Cheddar, 4 oz\\n- bullet points: Brought to you by Whole Foods Market.  Our standards are what set us apart, and our quality is what keeps us stocking pantries, fridges and freezers with the best natural and organic 365 Everyday Value products every day.,Made with real white cheddar cheese.,No sugar added.,Certified Organic, Certified Gluten Free, Certified Kosher, Certified Vegetarian.'}]\n"
   ]
  },
  {
   "cell_type": "code",
   "execution_count": 2,
   "id": "0a5c1a01-eaf4-48cd-935b-196fae0c52f1",
   "metadata": {},
   "outputs": [
    {
     "name": "stderr",
     "output_type": "stream",
     "text": [
      "/opt/homebrew/lib/python3.9/site-packages/sentence_transformers/cross_encoder/CrossEncoder.py:13: TqdmExperimentalWarning: Using `tqdm.autonotebook.tqdm` in notebook mode. Use `tqdm.tqdm` instead to force console mode (e.g. in jupyter console)\n",
      "  from tqdm.autonotebook import tqdm, trange\n"
     ]
    }
   ],
   "source": [
    "from sentence_transformers import InputExample\n",
    "from torch.utils.data import DataLoader\n",
    "\n",
    "train_examples = []\n",
    "for data in train_data:\n",
    "  train_examples.append(InputExample(texts=[data['q'], data['a']]))\n",
    "\n",
    "train_dataloader = DataLoader(train_examples, shuffle=True, batch_size=8)"
   ]
  },
  {
   "cell_type": "code",
   "execution_count": 4,
   "id": "56055cfa-4cc3-427c-ac43-87036238d3be",
   "metadata": {},
   "outputs": [],
   "source": [
    "from sentence_transformers import losses\n",
    "\n",
    "train_loss = losses.MultipleNegativesRankingLoss(model=embedding_model)"
   ]
  },
  {
   "cell_type": "code",
   "execution_count": 5,
   "id": "7d31937c-82c4-4527-b9a6-a4ab43c3bb20",
   "metadata": {},
   "outputs": [
    {
     "data": {
      "text/html": [
       "\n",
       "    <div>\n",
       "      \n",
       "      <progress value='300' max='300' style='width:300px; height:20px; vertical-align: middle;'></progress>\n",
       "      [300/300 01:08, Epoch 100/100]\n",
       "    </div>\n",
       "    <table border=\"1\" class=\"dataframe\">\n",
       "  <thead>\n",
       " <tr style=\"text-align: left;\">\n",
       "      <th>Step</th>\n",
       "      <th>Training Loss</th>\n",
       "    </tr>\n",
       "  </thead>\n",
       "  <tbody>\n",
       "  </tbody>\n",
       "</table><p>"
      ],
      "text/plain": [
       "<IPython.core.display.HTML object>"
      ]
     },
     "metadata": {},
     "output_type": "display_data"
    },
    {
     "data": {
      "application/vnd.jupyter.widget-view+json": {
       "model_id": "96d269264fdd4ca2b8d77c4d64536d10",
       "version_major": 2,
       "version_minor": 0
      },
      "text/plain": [
       "Computing widget examples:   0%|          | 0/1 [00:00<?, ?example/s]"
      ]
     },
     "metadata": {},
     "output_type": "display_data"
    }
   ],
   "source": [
    "# fine-tune\n",
    "embedding_model.fit(\n",
    "    train_objectives=[(train_dataloader, train_loss)],\n",
    "    epochs=100,\n",
    "    show_progress_bar=True,\n",
    ")\n",
    "\n",
    "# save the fine-tuned model\n",
    "embedding_model.save(\"all-MiniLM-L12-v2-abo\", safe_serialization=False)"
   ]
  },
  {
   "cell_type": "markdown",
   "id": "d8ca750d-ebbb-4762-95ff-d05ad966ed96",
   "metadata": {},
   "source": [
    "### Vector Index"
   ]
  },
  {
   "cell_type": "code",
   "execution_count": 10,
   "id": "411ce640-1b4b-4a48-b0e4-c961eab4afa5",
   "metadata": {},
   "outputs": [],
   "source": [
    "# Setup\n",
    "# ! pip3 install -U pinecone\n",
    "\n",
    "# Create Index\n",
    "# 1. sign-up at https://www.pinecone.io/\n",
    "# 2. create index named \"product\" with dimensions \"384\"\n",
    "# 3. choose cloud provider (I chose AWS us-east-1 region)"
   ]
  },
  {
   "cell_type": "code",
   "execution_count": 16,
   "id": "20d1cc8d-6cca-42b2-9d0d-72080898ab43",
   "metadata": {},
   "outputs": [],
   "source": [
    "from pinecone import Pinecone, ServerlessSpec\n",
    "\n",
    "pinecone_api_key = 'my_key'\n",
    "pc = Pinecone(api_key=pinecone_api_key)\n",
    "\n",
    "# Create Index\n",
    "index_name = \"product\"\n",
    "\n",
    "if not pc.has_index(index_name):\n",
    "    pc.create_index(\n",
    "        name=index_name,\n",
    "        dimension=384,\n",
    "        metric=\"cosine\",\n",
    "        spec=ServerlessSpec(\n",
    "            cloud=1\n",
    "            region=2\n",
    "        )\n",
    "    )\n",
    "\n",
    "pc_client = pc.Index(index_name)"
   ]
  },
  {
   "cell_type": "code",
   "execution_count": 22,
   "id": "ac5eb36f-f694-49aa-9711-31462525f1e7",
   "metadata": {},
   "outputs": [],
   "source": [
    "must_have_keys = set(['item_id', 'brand', 'item_name', 'item_keywords', 'bullet_point'])\n",
    "key_filter =  must_have_keys.union(set('product_description'))\n",
    "\n",
    "def get_product_item(product, key_filter=key_filter, locale='en_US'):\n",
    "    item = {}\n",
    "    for key in key_filter:\n",
    "        if key == 'item_id':\n",
    "            item[key] = product[key]\n",
    "        else:\n",
    "            values = locale_filter(product.get(key, []), locale)\n",
    "            if values:\n",
    "                item[key] = ' '.join(values).strip()\n",
    "    return item\n",
    "\n",
    "def json_gz2product(file_path):\n",
    "    data = []\n",
    "    products = file_iterator(file_path)\n",
    "    for product in products:\n",
    "        # at least 'item_id', 'brand', 'item_name', 'item_keywords', 'bullet_point'\n",
    "        item = get_product_item(product)\n",
    "        if item.keys() == must_have_keys:\n",
    "            data.append(item)\n",
    "    return data\n",
    "\n",
    "data = []\n",
    "all_files = os.listdir(\"abo-listings/listings/metadata\")\n",
    "for file in all_files:\n",
    "    file_path = 'abo-listings/listings/metadata/' + file\n",
    "    products = json_gz2product(file_path)\n",
    "    data.extend(products)\n",
    "\n",
    "sentences = []\n",
    "for item in data:\n",
    "    sentences.append(' '.join([item.get('item_name', ''), item.get('bullet_point', ''), item.get('product_description', '')]).strip())\n",
    "embeddings =  embedding_model.encode(sentences)  \n",
    "\n",
    "vectors = []\n",
    "for d, e in zip(data, embeddings):\n",
    "    vectors.append({\n",
    "        \"id\": d['item_id'],\n",
    "        \"values\": e,\n",
    "        \"metadata\": {'item_name': d['item_name']},\n",
    "    })\n",
    "\n",
    "\n",
    "window_size = 100\n",
    "total_samples = 19900\n",
    "vector_samples = vectors[:total_samples]\n",
    "\n",
    "# index vectors to Pinecone\n",
    "for i in range(total_samples - window_size + 1):\n",
    "    window = vector_samples[i: i + window_size]\n",
    "    pc_client.upsert(\n",
    "        vectors=window,\n",
    "        namespace=\"ns1\"\n",
    "    )"
   ]
  },
  {
   "cell_type": "code",
   "execution_count": 89,
   "id": "4e91f3ae-742f-4898-90ec-e6e101231561",
   "metadata": {},
   "outputs": [
    {
     "name": "stdout",
     "output_type": "stream",
     "text": [
      "string query: 72 bytes, query embedding: 3128 bytes\n",
      "\n",
      "[{'id': 'B07B78LZQC',\n",
      " 'metadata': {'item_name': 'Amazon Brand – Rivet Ian Modern Wood Round Dining '\n",
      "                           'Room Kitchen Table, 42\"W, Brown'},\n",
      " 'score': 0.575852633,\n",
      " 'values': []}, {'id': 'B07B82PXD8',\n",
      " 'metadata': {'item_name': 'Amazon Brand – Rivet Ian Modern Medium Dining '\n",
      "                           'Kitchen Table, Expandable, 60-80\"L, Brown'},\n",
      " 'score': 0.556741416,\n",
      " 'values': []}, {'id': 'B07B87J7L3',\n",
      " 'metadata': {'item_name': 'Amazon Brand – Stone & Beam Hughes Round Wood '\n",
      "                           'Dining Kitchen Table, Expandable, Brown'},\n",
      " 'score': 0.550611913,\n",
      " 'values': []}]\n"
     ]
    }
   ],
   "source": [
    "import sys\n",
    "\n",
    "query = \"Find me a kitchen table\"\n",
    "query_embedding = embedding_model.encode(query).tolist()\n",
    "print(f'string query: {sys.getsizeof(query)} bytes, query embedding: {sys.getsizeof(query_embedding)} bytes\\n')\n",
    "\n",
    "results = pc_client.query(\n",
    "    namespace=\"ns1\",\n",
    "    vector=query_embedding,\n",
    "    top_k=3,\n",
    "    include_values=False,\n",
    "    include_metadata=True\n",
    ")\n",
    "\n",
    "sorted_matches = sorted(results['matches'], key=lambda x: x['score'], reverse=True)\n",
    "print(sorted_matches)"
   ]
  },
  {
   "cell_type": "code",
   "execution_count": 29,
   "id": "15ac79bc-820e-4b58-aa28-74309870f2a6",
   "metadata": {},
   "outputs": [
    {
     "data": {
      "text/plain": [
       "[{'id': 'B07B78LZQC',\n",
       "  'metadata': {'item_name': 'Amazon Brand – Rivet Ian Modern Wood Round Dining '\n",
       "                            'Room Kitchen Table, 42\"W, Brown'},\n",
       "  'score': 0.575852633,\n",
       "  'values': []},\n",
       " {'id': 'B07B82PXD8',\n",
       "  'metadata': {'item_name': 'Amazon Brand – Rivet Ian Modern Medium Dining '\n",
       "                            'Kitchen Table, Expandable, 60-80\"L, Brown'},\n",
       "  'score': 0.556741416,\n",
       "  'values': []},\n",
       " {'id': 'B07B87J7L3',\n",
       "  'metadata': {'item_name': 'Amazon Brand – Stone & Beam Hughes Round Wood '\n",
       "                            'Dining Kitchen Table, Expandable, Brown'},\n",
       "  'score': 0.550611913,\n",
       "  'values': []}]"
      ]
     },
     "execution_count": 29,
     "metadata": {},
     "output_type": "execute_result"
    }
   ],
   "source": [
    "sorted_matches"
   ]
  },
  {
   "cell_type": "markdown",
   "id": "4960dd74-f24d-4b9e-b0b5-fe3065b6ef24",
   "metadata": {},
   "source": [
    "### Hybrid Search"
   ]
  },
  {
   "cell_type": "code",
   "execution_count": 31,
   "id": "ca15c5aa-a243-4dd3-b8c9-14997aa2b394",
   "metadata": {},
   "outputs": [
    {
     "name": "stdout",
     "output_type": "stream",
     "text": [
      "Successfully indexed 19900 documents\n"
     ]
    }
   ],
   "source": [
    "# setup Elasticsearch for full-text search\n",
    "\n",
    "from elasticsearch import Elasticsearch\n",
    "from elasticsearch.helpers import bulk\n",
    "\n",
    "es_client = Elasticsearch(\n",
    "    \"http://localhost:9200\",\n",
    "    basic_auth=(\"elastic\", \"password\"),\n",
    "    verify_certs=False,\n",
    "    ssl_show_warn=False\n",
    ")\n",
    "\n",
    "index = 'product'\n",
    "\n",
    "mapping = {\n",
    "    \"mappings\": {\n",
    "        \"properties\": {\n",
    "            \"item_id\": {\"type\": \"text\"},\n",
    "            \"brand\": {\"type\": \"text\"},\n",
    "            \"item_name\": {\"type\": \"text\"},\n",
    "            \"item_keywords\": {\"type\": \"text\"},\n",
    "            \"bullet_point\": {\"type\": \"text\"},\n",
    "            \"product_description\": {\"type\": \"text\"},\n",
    "        }\n",
    "    }\n",
    "}\n",
    "\n",
    "es_client.indices.create(index=index, body=mapping)\n",
    "\n",
    "documents = []\n",
    "data_sample = data[:total_samples]\n",
    "for i in range(total_samples):\n",
    "    data = data_sample[i]\n",
    "    documents.append({\n",
    "        '_index': index,\n",
    "        '_id': i+1,\n",
    "        '_source': {\n",
    "            'item_id': data.get('item_id', ''),\n",
    "            'brand': data.get('brand', ''),\n",
    "            'item_name': data.get('item_name', ''),\n",
    "            'item_keywords': data.get('item_keywords', ''),\n",
    "            'bullet_point': data.get('bullet_point', ''),\n",
    "            'product_description': data.get('product_description', ''),\n",
    "        }\n",
    "    })\n",
    "\n",
    "success, _ = bulk(es_client, documents)\n",
    "print(f\"Successfully indexed {success} documents\")"
   ]
  },
  {
   "cell_type": "code",
   "execution_count": 77,
   "id": "31cfa1e9-a83a-41dd-9d86-72fc175813c2",
   "metadata": {},
   "outputs": [
    {
     "name": "stdout",
     "output_type": "stream",
     "text": [
      "[{'item_id': 'B0725Z3LDP', 'brand': 'find.', 'item_name': \"find. Women's 123265 Boots, Red, 8 US\", 'item_keywords': 'women woman Find Thigh High Boot boots boots for women boots women shoes shoes women stiletto boots womens ankle boots womens fashion womens shoes womens stilettos womenswear Find Thigh High Boot boots boots for women boots women shoes shoes women stiletto boots womens ankle boots womens fashion womens shoes womens stilettos womenswear Find Thigh High Boot boots boots for women boots women shoes shoes women stiletto boots womens ankle boots womens fashion womens shoes womens stilettos womenswear Find Thigh High Boot boots boots for women boots women shoes shoes women stiletto boots womens ankle boots womens fashion womens shoes womens stilettos womenswear Find Thigh High Boot boots boots for women boots women shoes shoes women stiletto boots womens ankle boots womens fashion womens shoes womens stilettos womenswear Find Thigh High Boot boots boots for women boots women shoes shoes women stiletto boots womens ankle boots womens fashion womens shoes womens stilettos womenswear Find Thigh High Boot boots boots for women boots women shoes shoes women stiletto boots womens ankle boots womens fashion womens shoes womens stilettos womenswear Find Thigh High Boot boots boots for women boots women shoes shoes women stiletto boots womens ankle boots womens fashion womens shoes womens stilettos womenswear Find Thigh High Boot boots boots for women boots women shoes shoes women stiletto boots womens ankle boots womens fashion womens shoes womens stilettos womenswear Find Thigh High Boot boots boots for women boots women shoes shoes women stiletto boots womens ankle boots womens fashion womens shoes womens stilettos womenswear Find Thigh High Boot boots boots for women boots women shoes shoes women stiletto boots womens ankle boots womens fashion womens shoes womens stilettos womenswear Find Thigh High Boot boots boots for women boots women shoes shoes women stiletto boots womens ankle boots womens fashion womens shoes womens stilettos womenswear Find Thigh High Boot boots boots for women boots women shoes shoes women stiletto boots womens ankle boots womens fashion womens shoes womens stilettos womenswear Find Thigh High Boot boots boots for women boots women shoes shoes women stiletto boots womens ankle boots womens fashion womens shoes womens stilettos womenswear', 'bullet_point': 'Stretch satin upper Pointed toe', 'product_description': ''}, {'item_id': 'B07LCJ9232', 'brand': 'Amazon Kitchen', 'item_name': 'Antipasti Meat and Cheese Box', 'item_keywords': 'snack deli salad lunch dinner side salad healthy snack protein snack low calorie snack prosciutto italian meats antipasto antipasta appetizer Amazon Kitchen snacks Amazon dinner Amazon healthy salad Amazon lunch Amazon prosciutto and cheese Amazon ready to go snack Amazon side salad Amazon snack pack Amazon snacks Amazon to go snacks Amazon Kitchen snacks Amazon dinner Amazon healthy salad Amazon lunch Amazon prosciutto and cheese Amazon ready to go snack Amazon side salad Amazon snack pack Amazon snacks Amazon to go snacks Amazon Kitchen snacks Amazon dinner Amazon healthy salad Amazon lunch Amazon prosciutto and cheese Amazon ready to go snack Amazon side salad Amazon snack pack Amazon snacks Amazon to go snacks Amazon Kitchen snacks Amazon dinner Amazon healthy salad Amazon lunch Amazon prosciutto and cheese Amazon ready to go snack Amazon side salad Amazon snack pack Amazon snacks Amazon to go snacks Amazon Kitchen snacks Amazon dinner Amazon healthy salad Amazon lunch Amazon prosciutto and cheese Amazon ready to go snack Amazon side salad Amazon snack pack Amazon snacks Amazon to go snacks Amazon Kitchen snacks Amazon dinner Amazon healthy salad Amazon lunch Amazon prosciutto and cheese Amazon ready to go snack Amazon side salad Amazon snack pack Amazon snacks Amazon to go snacks Amazon Kitchen snacks Amazon dinner Amazon healthy salad Amazon lunch Amazon prosciutto and cheese Amazon ready to go snack Amazon side salad Amazon snack pack Amazon snacks Amazon to go snacks Amazon Kitchen snacks Amazon dinner Amazon healthy salad Amazon lunch Amazon prosciutto and cheese Amazon ready to go snack Amazon side salad Amazon snack pack Amazon snacks Amazon to go snacks Amazon Kitchen snacks Amazon dinner Amazon healthy salad Amazon lunch Amazon prosciutto and cheese Amazon ready to go snack Amazon side salad Amazon snack pack Amazon snacks Amazon to go snacks Amazon Kitchen snacks Amazon dinner Amazon healthy salad Amazon lunch Amazon prosciutto and cheese Amazon ready to go snack Amazon side salad Amazon snack pack Amazon snacks Amazon to go snacks Amazon Kitchen snacks Amazon dinner Amazon healthy salad Amazon lunch Amazon prosciutto and cheese Amazon ready to go snack Amazon side salad Amazon snack pack Amazon snacks Amazon to go snacks Amazon Kitchen snacks Amazon dinner Amazon healthy salad Amazon lunch Amazon prosciutto and cheese Amazon ready to go snack Amazon side salad Amazon snack pack Amazon snacks Amazon to go snacks Amazon Kitchen snacks Amazon dinner Amazon healthy salad Amazon lunch Amazon prosciutto and cheese Amazon ready to go snack Amazon side salad Amazon snack pack Amazon snacks Amazon to go snacks Amazon Kitchen snacks Amazon dinner Amazon healthy salad Amazon lunch Amazon prosciutto and cheese Amazon ready to go snack Amazon side salad Amazon snack pack Amazon snacks Amazon to go snacks', 'bullet_point': 'Prosciutto and pepperoni slices with asiago, cornichons, olives, sweet red peppers, and flatbread Pause & Recharge Perfect between meals when you need a little pick-me-up Brought to you by Amazon Kitchen, grab-and-enjoy meal solutions, prepped for what’s next', 'product_description': ''}, {'item_id': 'B07LCHQHLC', 'brand': 'Amazon Kitchen', 'item_name': 'Tzatziki Dip with Veggies', 'item_keywords': 'snack deli salad lunch dinner side salad healthy snack protein snack low calorie snack tzatziki veggies vegetarian plant based vegan antipasta appetizer Amazon Kitchen snacks Amazon snacks Amazon to go snacks Amazon lunch Amazon dinner Amazon side salad Amazon healthy salad Amazon ready to go snack Amazon snack pack Amazon tzatziki and veggies Amazon Kitchen snacks Amazon snacks Amazon to go snacks Amazon lunch Amazon dinner Amazon side salad Amazon healthy salad Amazon ready to go snack Amazon snack pack Amazon tzatziki and veggies Amazon Kitchen snacks Amazon snacks Amazon to go snacks Amazon lunch Amazon dinner Amazon side salad Amazon healthy salad Amazon ready to go snack Amazon snack pack Amazon tzatziki and veggies Amazon Kitchen snacks Amazon snacks Amazon to go snacks Amazon lunch Amazon dinner Amazon side salad Amazon healthy salad Amazon ready to go snack Amazon snack pack Amazon tzatziki and veggies Amazon Kitchen snacks Amazon snacks Amazon to go snacks Amazon lunch Amazon dinner Amazon side salad Amazon healthy salad Amazon ready to go snack Amazon snack pack Amazon tzatziki and veggies Amazon Kitchen snacks Amazon snacks Amazon to go snacks Amazon lunch Amazon dinner Amazon side salad Amazon healthy salad Amazon ready to go snack Amazon snack pack Amazon tzatziki and veggies Amazon Kitchen snacks Amazon snacks Amazon to go snacks Amazon lunch Amazon dinner Amazon side salad Amazon healthy salad Amazon ready to go snack Amazon snack pack Amazon tzatziki and veggies Amazon Kitchen snacks Amazon snacks Amazon to go snacks Amazon lunch Amazon dinner Amazon side salad Amazon healthy salad Amazon ready to go snack Amazon snack pack Amazon tzatziki and veggies Amazon Kitchen snacks Amazon snacks Amazon to go snacks Amazon lunch Amazon dinner Amazon side salad Amazon healthy salad Amazon ready to go snack Amazon snack pack Amazon tzatziki and veggies Amazon Kitchen snacks Amazon snacks Amazon to go snacks Amazon lunch Amazon dinner Amazon side salad Amazon healthy salad Amazon ready to go snack Amazon snack pack Amazon tzatziki and veggies Amazon Kitchen snacks Amazon snacks Amazon to go snacks Amazon lunch Amazon dinner Amazon side salad Amazon healthy salad Amazon ready to go snack Amazon snack pack Amazon tzatziki and veggies Amazon Kitchen snacks Amazon snacks Amazon to go snacks Amazon lunch Amazon dinner Amazon side salad Amazon healthy salad Amazon ready to go snack Amazon snack pack Amazon tzatziki and veggies Amazon Kitchen snacks Amazon snacks Amazon to go snacks Amazon lunch Amazon dinner Amazon side salad Amazon healthy salad Amazon ready to go snack Amazon snack pack Amazon tzatziki and veggies Amazon Kitchen snacks Amazon snacks Amazon to go snacks Amazon lunch Amazon dinner Amazon side salad Amazon healthy salad Amazon ready to go snack Amazon snack pack Amazon tzatziki and veggies', 'bullet_point': 'Cucumber-yogurt dip with broccoli florets, mini sweet peppers, and English cucumber slices Vegetarian Pause & Recharge Perfect between meals when you need a little pick-me-up Brought to you by Amazon Kitchen, grab-and-enjoy meal solutions, prepped for what’s next', 'product_description': ''}, {'item_id': 'B07LCKP5DC', 'brand': 'Amazon Kitchen', 'item_name': 'Amazon Kitchen, Egg & Cheddar Snack Box, 8.2 oz', 'item_keywords': 'snack deli salad lunch dinner side salad healthy snack protein snack low calorie snack egg and cheese hard boiled eggs vegetarian antipasta appetizer Amazon Kitchen snacks Amazon snacks Amazon to go snacks Amazon lunch Amazon dinner Amazon side salad Amazon healthy salad Amazon ready to go snack Amazon snack pack Amazon egg and cheese Amazon Kitchen snacks Amazon snacks Amazon to go snacks Amazon lunch Amazon dinner Amazon side salad Amazon healthy salad Amazon ready to go snack Amazon snack pack Amazon egg and cheese Amazon Kitchen snacks Amazon snacks Amazon to go snacks Amazon lunch Amazon dinner Amazon side salad Amazon healthy salad Amazon ready to go snack Amazon snack pack Amazon egg and cheese Amazon Kitchen snacks Amazon snacks Amazon to go snacks Amazon lunch Amazon dinner Amazon side salad Amazon healthy salad Amazon ready to go snack Amazon snack pack Amazon egg and cheese Amazon Kitchen snacks Amazon snacks Amazon to go snacks Amazon lunch Amazon dinner Amazon side salad Amazon healthy salad Amazon ready to go snack Amazon snack pack Amazon egg and cheese Amazon Kitchen snacks Amazon snacks Amazon to go snacks Amazon lunch Amazon dinner Amazon side salad Amazon healthy salad Amazon ready to go snack Amazon snack pack Amazon egg and cheese Amazon Kitchen snacks Amazon snacks Amazon to go snacks Amazon lunch Amazon dinner Amazon side salad Amazon healthy salad Amazon ready to go snack Amazon snack pack Amazon egg and cheese Amazon Kitchen snacks Amazon snacks Amazon to go snacks Amazon lunch Amazon dinner Amazon side salad Amazon healthy salad Amazon ready to go snack Amazon snack pack Amazon egg and cheese Amazon Kitchen snacks Amazon snacks Amazon to go snacks Amazon lunch Amazon dinner Amazon side salad Amazon healthy salad Amazon ready to go snack Amazon snack pack Amazon egg and cheese Amazon Kitchen snacks Amazon snacks Amazon to go snacks Amazon lunch Amazon dinner Amazon side salad Amazon healthy salad Amazon ready to go snack Amazon snack pack Amazon egg and cheese Amazon Kitchen snacks Amazon snacks Amazon to go snacks Amazon lunch Amazon dinner Amazon side salad Amazon healthy salad Amazon ready to go snack Amazon snack pack Amazon egg and cheese Amazon Kitchen snacks Amazon snacks Amazon to go snacks Amazon lunch Amazon dinner Amazon side salad Amazon healthy salad Amazon ready to go snack Amazon snack pack Amazon egg and cheese Amazon Kitchen snacks Amazon snacks Amazon to go snacks Amazon lunch Amazon dinner Amazon side salad Amazon healthy salad Amazon ready to go snack Amazon snack pack Amazon egg and cheese Amazon Kitchen snacks Amazon snacks Amazon to go snacks Amazon lunch Amazon dinner Amazon side salad Amazon healthy salad Amazon ready to go snack Amazon snack pack Amazon egg and cheese', 'bullet_point': 'Hard-boiled eggs with apple and cucumber slices, cheddar, roasted almonds, and everything spice Vegetarian Pause & Recharge Perfect between meals when you need a little pick-me-up Brought to you by Amazon Kitchen, grab-and-enjoy meal solutions, prepped for what’s next', 'product_description': ''}, {'item_id': 'B07LCJDG3P', 'brand': 'Amazon Kitchen', 'item_name': 'Smoked Salmon Dip Box', 'item_keywords': 'snack deli salad lunch dinner side salad healthy snack protein snack low calorie snack salmon dip hard boiled eggs antipasta appetizer Amazon Kitchen snacks Amazon dinner Amazon healthy salad Amazon lunch Amazon ready to go snack Amazon salmon dip Amazon side salad Amazon snack pack Amazon snacks Amazon to go snacks Amazon Kitchen snacks Amazon dinner Amazon healthy salad Amazon lunch Amazon ready to go snack Amazon salmon dip Amazon side salad Amazon snack pack Amazon snacks Amazon to go snacks Amazon Kitchen snacks Amazon dinner Amazon healthy salad Amazon lunch Amazon ready to go snack Amazon salmon dip Amazon side salad Amazon snack pack Amazon snacks Amazon to go snacks Amazon Kitchen snacks Amazon dinner Amazon healthy salad Amazon lunch Amazon ready to go snack Amazon salmon dip Amazon side salad Amazon snack pack Amazon snacks Amazon to go snacks Amazon Kitchen snacks Amazon dinner Amazon healthy salad Amazon lunch Amazon ready to go snack Amazon salmon dip Amazon side salad Amazon snack pack Amazon snacks Amazon to go snacks Amazon Kitchen snacks Amazon dinner Amazon healthy salad Amazon lunch Amazon ready to go snack Amazon salmon dip Amazon side salad Amazon snack pack Amazon snacks Amazon to go snacks Amazon Kitchen snacks Amazon dinner Amazon healthy salad Amazon lunch Amazon ready to go snack Amazon salmon dip Amazon side salad Amazon snack pack Amazon snacks Amazon to go snacks Amazon Kitchen snacks Amazon dinner Amazon healthy salad Amazon lunch Amazon ready to go snack Amazon salmon dip Amazon side salad Amazon snack pack Amazon snacks Amazon to go snacks Amazon Kitchen snacks Amazon dinner Amazon healthy salad Amazon lunch Amazon ready to go snack Amazon salmon dip Amazon side salad Amazon snack pack Amazon snacks Amazon to go snacks Amazon Kitchen snacks Amazon dinner Amazon healthy salad Amazon lunch Amazon ready to go snack Amazon salmon dip Amazon side salad Amazon snack pack Amazon snacks Amazon to go snacks Amazon Kitchen snacks Amazon dinner Amazon healthy salad Amazon lunch Amazon ready to go snack Amazon salmon dip Amazon side salad Amazon snack pack Amazon snacks Amazon to go snacks Amazon Kitchen snacks Amazon dinner Amazon healthy salad Amazon lunch Amazon ready to go snack Amazon salmon dip Amazon side salad Amazon snack pack Amazon snacks Amazon to go snacks Amazon Kitchen snacks Amazon dinner Amazon healthy salad Amazon lunch Amazon ready to go snack Amazon salmon dip Amazon side salad Amazon snack pack Amazon snacks Amazon to go snacks Amazon Kitchen snacks Amazon dinner Amazon healthy salad Amazon lunch Amazon ready to go snack Amazon salmon dip Amazon side salad Amazon snack pack Amazon snacks Amazon to go snacks Amazon Kitchen snacks Amazon dinner Amazon healthy salad Amazon lunch Amazon ready to go snack Amazon salmon dip Amazon side salad Amazon snack pack Amazon snacks Amazon to go snacks', 'bullet_point': 'Smoked salmon dip and hard-boiled egg with everything-spice crackers, cornichons, and cucumber slices Pause & Recharge Perfect between meals when you need a little pick-me-up Brought to you by Amazon Kitchen, grab-and-enjoy meal solutions, prepped for what’s next', 'product_description': ''}, {'item_id': 'B07XZLZM4T', 'brand': 'AmazonBasics', 'item_name': 'AmazonBasics Indoor and Outdoor Plastic Toddler Chairs - 4 Pack, Multicolor', 'item_keywords': 'small play toddlers pink fur saucer activity bags kid for hop bag box skip storage girls infant childs boy walkers plush toddler skiphop and butterfly jumpers centers me bouncer up fluffy exersaucer floor bean beanbag table jumper toy soft sit boxes bouncers bench lounge explore chair childrens', 'bullet_point': \"Set of 4 plastic kids chairs for indoor or outdoor use Made of durable, non-toxic polypropylene material; easy to clean Rolled seat edge, wide arm rests, and slatted backrest and seat panels Stackable, lightweight, molded design for space-saving storage Rounded corners that won't scratch or injure your child Ideal for ages 18 months to 5 years old with adult supervision; weight capacity 50 pounds (seat depth = 9.4 inches, seat width = 12.2 inches)\", 'product_description': ''}, {'item_id': 'B089G43NCR', 'brand': 'AmazonBasics', 'item_name': 'AmazonBasics Indoor and Outdoor Plastic Toddler Chairs - 4 Pack, Multicolor (Renewed)', 'item_keywords': 'small play toddlers pink fur saucer activity bags kid for hop bag box skip storage girls infant childs boy walkers plush toddler skiphop and butterfly jumpers centers me bouncer up fluffy exersaucer floor bean beanbag table jumper toy soft sit boxes bouncers bench lounge explore chair childrens', 'bullet_point': \"Set of 4 plastic kids chairs for indoor or outdoor use Made of durable, non-toxic polypropylene material; easy to clean Rolled seat edge, wide arm rests, and slatted backrest and seat panels Stackable, lightweight, molded design for space-saving storage Rounded corners that won't scratch or injure your child Ideal for ages 18 months to 5 years old with adult supervision; weight capacity 50 pounds\", 'product_description': ''}, {'item_id': 'B07LCH94FF', 'brand': 'Amazon Kitchen', 'item_name': 'Hummus Dip with Veggies', 'item_keywords': 'snack deli salad lunch dinner side salad healthy snack protein snack low calorie snack hummus veggies vegetarian plant based vegan antipasta appetizer Amazon Kitchen snacks Amazon snacks Amazon to go snacks Amazon lunch Amazon dinner Amazon side salad Amazon healthy salad Amazon ready to go snack Amazon snack pack Amazon hummus and veggies Amazon Kitchen snacks Amazon snacks Amazon to go snacks Amazon lunch Amazon dinner Amazon side salad Amazon healthy salad Amazon ready to go snack Amazon snack pack Amazon hummus and veggies Amazon Kitchen snacks Amazon snacks Amazon to go snacks Amazon lunch Amazon dinner Amazon side salad Amazon healthy salad Amazon ready to go snack Amazon snack pack Amazon hummus and veggies Amazon Kitchen snacks Amazon snacks Amazon to go snacks Amazon lunch Amazon dinner Amazon side salad Amazon healthy salad Amazon ready to go snack Amazon snack pack Amazon hummus and veggies Amazon Kitchen snacks Amazon snacks Amazon to go snacks Amazon lunch Amazon dinner Amazon side salad Amazon healthy salad Amazon ready to go snack Amazon snack pack Amazon hummus and veggies Amazon Kitchen snacks Amazon snacks Amazon to go snacks Amazon lunch Amazon dinner Amazon side salad Amazon healthy salad Amazon ready to go snack Amazon snack pack Amazon hummus and veggies Amazon Kitchen snacks Amazon snacks Amazon to go snacks Amazon lunch Amazon dinner Amazon side salad Amazon healthy salad Amazon ready to go snack Amazon snack pack Amazon hummus and veggies Amazon Kitchen snacks Amazon snacks Amazon to go snacks Amazon lunch Amazon dinner Amazon side salad Amazon healthy salad Amazon ready to go snack Amazon snack pack Amazon hummus and veggies Amazon Kitchen snacks Amazon snacks Amazon to go snacks Amazon lunch Amazon dinner Amazon side salad Amazon healthy salad Amazon ready to go snack Amazon snack pack Amazon hummus and veggies Amazon Kitchen snacks Amazon snacks Amazon to go snacks Amazon lunch Amazon dinner Amazon side salad Amazon healthy salad Amazon ready to go snack Amazon snack pack Amazon hummus and veggies Amazon Kitchen snacks Amazon snacks Amazon to go snacks Amazon lunch Amazon dinner Amazon side salad Amazon healthy salad Amazon ready to go snack Amazon snack pack Amazon hummus and veggies Amazon Kitchen snacks Amazon snacks Amazon to go snacks Amazon lunch Amazon dinner Amazon side salad Amazon healthy salad Amazon ready to go snack Amazon snack pack Amazon hummus and veggies Amazon Kitchen snacks Amazon snacks Amazon to go snacks Amazon lunch Amazon dinner Amazon side salad Amazon healthy salad Amazon ready to go snack Amazon snack pack Amazon hummus and veggies Amazon Kitchen snacks Amazon snacks Amazon to go snacks Amazon lunch Amazon dinner Amazon side salad Amazon healthy salad Amazon ready to go snack Amazon snack pack Amazon hummus and veggies Amazon Kitchen snacks Amazon snacks Amazon to go snacks Amazon lunch Amazon dinner Amazon side salad Amazon healthy salad Amazon ready to go snack Amazon snack pack Amazon hummus and veggies', 'bullet_point': 'Puréed garbanzo beans and tahini with broccoli florets, mini sweet peppers, and English cucumber slices Plant based–vegan with no animal products Pause & Recharge Perfect between meals when you need a little pick-me-up Brought to you by Amazon Kitchen, grab-and-enjoy meal solutions, prepped for what’s next', 'product_description': ''}, {'item_id': 'B0725Z3LDQ', 'brand': 'find.', 'item_name': \"find. Women's 123265 Boots, Blau Navy, 8 us\", 'item_keywords': 'Find Thigh High Boot boots boots for women boots women shoes shoes women stiletto boots womens ankle boots womens fashion womens shoes womens stilettos womenswear', 'bullet_point': 'Stretch satin upper Pointed toe', 'product_description': ''}, {'item_id': 'B087CS93VZ', 'brand': 'Amazon Kitchen', 'item_name': 'Amazon Kitchen, Egg & Cheddar Snack Box, 8.2 oz', 'item_keywords': 'snack box snacks lunch snacks office snacks Snacks on the go to go snacks protein snacks healthy snacks healthy snacks for adults adult snacks cage free eggs everything spice hard boiled egg cheddar cheese fruit snack snack pack Amazon Kitchen Amazon Kitchen Meals Amazon Kitchen Ready Meals Amazon Kitchen Meal Kits Amazon Kitchen Fresh Ready Meals Amazon Kitchen Lunch Amazon Kitchen Dinner Amazon Kitchen Snacks Amazon Kitchen sides Amazon Kitchen meal solutions Amazon Kitchen Prepared Food Amazon Kitchen Snack Box Amazon Kitchen Amazon Kitchen Meals Amazon Kitchen Ready Meals Amazon Kitchen Meal Kits Amazon Kitchen Fresh Ready Meals Amazon Kitchen Lunch Amazon Kitchen Dinner Amazon Kitchen Snacks Amazon Kitchen sides Amazon Kitchen meal solutions Amazon Kitchen Prepared Food Amazon Kitchen Snack Box Amazon Kitchen Amazon Kitchen Meals Amazon Kitchen Ready Meals Amazon Kitchen Meal Kits Amazon Kitchen Fresh Ready Meals Amazon Kitchen Lunch Amazon Kitchen Dinner Amazon Kitchen Snacks Amazon Kitchen sides Amazon Kitchen meal solutions Amazon Kitchen Prepared Food Amazon Kitchen Snack Box Amazon Kitchen Amazon Kitchen Meals Amazon Kitchen Ready Meals Amazon Kitchen Meal Kits Amazon Kitchen Fresh Ready Meals Amazon Kitchen Lunch Amazon Kitchen Dinner Amazon Kitchen Snacks Amazon Kitchen sides Amazon Kitchen meal solutions Amazon Kitchen Prepared Food Amazon Kitchen Snack Box Amazon Kitchen Amazon Kitchen Meals Amazon Kitchen Ready Meals Amazon Kitchen Meal Kits Amazon Kitchen Fresh Ready Meals Amazon Kitchen Lunch Amazon Kitchen Dinner Amazon Kitchen Snacks Amazon Kitchen sides Amazon Kitchen meal solutions Amazon Kitchen Prepared Food Amazon Kitchen Snack Box Amazon Kitchen Amazon Kitchen Meals Amazon Kitchen Ready Meals Amazon Kitchen Meal Kits Amazon Kitchen Fresh Ready Meals Amazon Kitchen Lunch Amazon Kitchen Dinner Amazon Kitchen Snacks Amazon Kitchen sides Amazon Kitchen meal solutions Amazon Kitchen Prepared Food Amazon Kitchen Snack Box Amazon Kitchen Amazon Kitchen Meals Amazon Kitchen Ready Meals Amazon Kitchen Meal Kits Amazon Kitchen Fresh Ready Meals Amazon Kitchen Lunch Amazon Kitchen Dinner Amazon Kitchen Snacks Amazon Kitchen sides Amazon Kitchen meal solutions Amazon Kitchen Prepared Food Amazon Kitchen Snack Box Amazon Kitchen Amazon Kitchen Meals Amazon Kitchen Ready Meals Amazon Kitchen Meal Kits Amazon Kitchen Fresh Ready Meals Amazon Kitchen Lunch Amazon Kitchen Dinner Amazon Kitchen Snacks Amazon Kitchen sides Amazon Kitchen meal solutions Amazon Kitchen Prepared Food Amazon Kitchen Snack Box Amazon Kitchen Amazon Kitchen Meals Amazon Kitchen Ready Meals Amazon Kitchen Meal Kits Amazon Kitchen Fresh Ready Meals Amazon Kitchen Lunch Amazon Kitchen Dinner Amazon Kitchen Snacks Amazon Kitchen sides Amazon Kitchen meal solutions Amazon Kitchen Prepared Food Amazon Kitchen Snack Box Amazon Kitchen Amazon Kitchen Meals Amazon Kitchen Ready Meals Amazon Kitchen Meal Kits Amazon Kitchen Fresh Ready Meals Amazon Kitchen Lunch Amazon Kitchen Dinner Amazon Kitchen Snacks Amazon Kitchen sides Amazon Kitchen meal solutions Amazon Kitchen Prepared Food Amazon Kitchen Snack Box Amazon Kitchen Amazon Kitchen Meals Amazon Kitchen Ready Meals Amazon Kitchen Meal Kits Amazon Kitchen Fresh Ready Meals Amazon Kitchen Lunch Amazon Kitchen Dinner Amazon Kitchen Snacks Amazon Kitchen sides Amazon Kitchen meal solutions Amazon Kitchen Prepared Food Amazon Kitchen Snack Box Amazon Kitchen Amazon Kitchen Meals Amazon Kitchen Ready Meals Amazon Kitchen Meal Kits Amazon Kitchen Fresh Ready Meals Amazon Kitchen Lunch Amazon Kitchen Dinner Amazon Kitchen Snacks Amazon Kitchen sides Amazon Kitchen meal solutions Amazon Kitchen Prepared Food Amazon Kitchen Snack Box Amazon Kitchen Amazon Kitchen Meals Amazon Kitchen Ready Meals Amazon Kitchen Meal Kits Amazon Kitchen Fresh Ready Meals Amazon Kitchen Lunch Amazon Kitchen Dinner Amazon Kitchen Snacks Amazon Kitchen sides Amazon Kitchen meal solutions Amazon Kitchen Prepared Food Amazon Kitchen Snack Box Amazon Kitchen Amazon Kitchen Meals Amazon Kitchen Ready Meals Amazon Kitchen Meal Kits Amazon Kitchen Fresh Ready Meals Amazon Kitchen Lunch Amazon Kitchen Dinner Amazon Kitchen Snacks Amazon Kitchen sides Amazon Kitchen meal solutions Amazon Kitchen Prepared Food Amazon Kitchen Snack Box', 'bullet_point': 'With cage-free hard-boiled eggs, cheddar, apples, cucumber, roasted almonds, and everything spice 27g Protein per serving (see nutrition information for fat, sat fat, cholesterol, and sodium content) Pause & Recharge Perfect between meals when you need a little pick-me-up Brought to you by Amazon Kitchen, grab-and-enjoy meal solutions, prepped for what’s next', 'product_description': ''}]\n"
     ]
    }
   ],
   "source": [
    "# test text search\n",
    "\n",
    "query = {\n",
    "    \"query\": {\n",
    "        \"query_string\": {\n",
    "            \"query\": \"Find me a kitchen table\",\n",
    "        }\n",
    "    }\n",
    "}\n",
    "\n",
    "result = es_client.search(index=index, body=query)\n",
    "hits = result['hits']\n",
    "print([hit['_source'] for hit in hits['hits']])"
   ]
  },
  {
   "cell_type": "code",
   "execution_count": 80,
   "id": "4cb078dd-f281-4666-8776-d3a14936cfc4",
   "metadata": {},
   "outputs": [
    {
     "name": "stdout",
     "output_type": "stream",
     "text": [
      "Done in 0.7587382793426514 seconds\n",
      "[({'id': 'B07B78LZQC',\n",
      " 'metadata': {'item_name': 'Amazon Brand – Rivet Ian Modern Wood Round Dining '\n",
      "                           'Room Kitchen Table, 42\"W, Brown'},\n",
      " 'score': 0.575852633,\n",
      " 'values': []}, 0.01639344262295082), ({'item_id': 'B0725Z3LDP', 'brand': 'find.', 'item_name': \"find. Women's 123265 Boots, Red, 8 US\", 'item_keywords': 'women woman Find Thigh High Boot boots boots for women boots women shoes shoes women stiletto boots womens ankle boots womens fashion womens shoes womens stilettos womenswear Find Thigh High Boot boots boots for women boots women shoes shoes women stiletto boots womens ankle boots womens fashion womens shoes womens stilettos womenswear Find Thigh High Boot boots boots for women boots women shoes shoes women stiletto boots womens ankle boots womens fashion womens shoes womens stilettos womenswear Find Thigh High Boot boots boots for women boots women shoes shoes women stiletto boots womens ankle boots womens fashion womens shoes womens stilettos womenswear Find Thigh High Boot boots boots for women boots women shoes shoes women stiletto boots womens ankle boots womens fashion womens shoes womens stilettos womenswear Find Thigh High Boot boots boots for women boots women shoes shoes women stiletto boots womens ankle boots womens fashion womens shoes womens stilettos womenswear Find Thigh High Boot boots boots for women boots women shoes shoes women stiletto boots womens ankle boots womens fashion womens shoes womens stilettos womenswear Find Thigh High Boot boots boots for women boots women shoes shoes women stiletto boots womens ankle boots womens fashion womens shoes womens stilettos womenswear Find Thigh High Boot boots boots for women boots women shoes shoes women stiletto boots womens ankle boots womens fashion womens shoes womens stilettos womenswear Find Thigh High Boot boots boots for women boots women shoes shoes women stiletto boots womens ankle boots womens fashion womens shoes womens stilettos womenswear Find Thigh High Boot boots boots for women boots women shoes shoes women stiletto boots womens ankle boots womens fashion womens shoes womens stilettos womenswear Find Thigh High Boot boots boots for women boots women shoes shoes women stiletto boots womens ankle boots womens fashion womens shoes womens stilettos womenswear Find Thigh High Boot boots boots for women boots women shoes shoes women stiletto boots womens ankle boots womens fashion womens shoes womens stilettos womenswear Find Thigh High Boot boots boots for women boots women shoes shoes women stiletto boots womens ankle boots womens fashion womens shoes womens stilettos womenswear', 'bullet_point': 'Stretch satin upper Pointed toe', 'product_description': ''}, 0.01639344262295082), ({'id': 'B07B82PXD8',\n",
      " 'metadata': {'item_name': 'Amazon Brand – Rivet Ian Modern Medium Dining '\n",
      "                           'Kitchen Table, Expandable, 60-80\"L, Brown'},\n",
      " 'score': 0.556741416,\n",
      " 'values': []}, 0.016129032258064516), ({'item_id': 'B07LCJ9232', 'brand': 'Amazon Kitchen', 'item_name': 'Antipasti Meat and Cheese Box', 'item_keywords': 'snack deli salad lunch dinner side salad healthy snack protein snack low calorie snack prosciutto italian meats antipasto antipasta appetizer Amazon Kitchen snacks Amazon dinner Amazon healthy salad Amazon lunch Amazon prosciutto and cheese Amazon ready to go snack Amazon side salad Amazon snack pack Amazon snacks Amazon to go snacks Amazon Kitchen snacks Amazon dinner Amazon healthy salad Amazon lunch Amazon prosciutto and cheese Amazon ready to go snack Amazon side salad Amazon snack pack Amazon snacks Amazon to go snacks Amazon Kitchen snacks Amazon dinner Amazon healthy salad Amazon lunch Amazon prosciutto and cheese Amazon ready to go snack Amazon side salad Amazon snack pack Amazon snacks Amazon to go snacks Amazon Kitchen snacks Amazon dinner Amazon healthy salad Amazon lunch Amazon prosciutto and cheese Amazon ready to go snack Amazon side salad Amazon snack pack Amazon snacks Amazon to go snacks Amazon Kitchen snacks Amazon dinner Amazon healthy salad Amazon lunch Amazon prosciutto and cheese Amazon ready to go snack Amazon side salad Amazon snack pack Amazon snacks Amazon to go snacks Amazon Kitchen snacks Amazon dinner Amazon healthy salad Amazon lunch Amazon prosciutto and cheese Amazon ready to go snack Amazon side salad Amazon snack pack Amazon snacks Amazon to go snacks Amazon Kitchen snacks Amazon dinner Amazon healthy salad Amazon lunch Amazon prosciutto and cheese Amazon ready to go snack Amazon side salad Amazon snack pack Amazon snacks Amazon to go snacks Amazon Kitchen snacks Amazon dinner Amazon healthy salad Amazon lunch Amazon prosciutto and cheese Amazon ready to go snack Amazon side salad Amazon snack pack Amazon snacks Amazon to go snacks Amazon Kitchen snacks Amazon dinner Amazon healthy salad Amazon lunch Amazon prosciutto and cheese Amazon ready to go snack Amazon side salad Amazon snack pack Amazon snacks Amazon to go snacks Amazon Kitchen snacks Amazon dinner Amazon healthy salad Amazon lunch Amazon prosciutto and cheese Amazon ready to go snack Amazon side salad Amazon snack pack Amazon snacks Amazon to go snacks Amazon Kitchen snacks Amazon dinner Amazon healthy salad Amazon lunch Amazon prosciutto and cheese Amazon ready to go snack Amazon side salad Amazon snack pack Amazon snacks Amazon to go snacks Amazon Kitchen snacks Amazon dinner Amazon healthy salad Amazon lunch Amazon prosciutto and cheese Amazon ready to go snack Amazon side salad Amazon snack pack Amazon snacks Amazon to go snacks Amazon Kitchen snacks Amazon dinner Amazon healthy salad Amazon lunch Amazon prosciutto and cheese Amazon ready to go snack Amazon side salad Amazon snack pack Amazon snacks Amazon to go snacks Amazon Kitchen snacks Amazon dinner Amazon healthy salad Amazon lunch Amazon prosciutto and cheese Amazon ready to go snack Amazon side salad Amazon snack pack Amazon snacks Amazon to go snacks', 'bullet_point': 'Prosciutto and pepperoni slices with asiago, cornichons, olives, sweet red peppers, and flatbread Pause & Recharge Perfect between meals when you need a little pick-me-up Brought to you by Amazon Kitchen, grab-and-enjoy meal solutions, prepped for what’s next', 'product_description': ''}, 0.016129032258064516), ({'id': 'B07B87J7L3',\n",
      " 'metadata': {'item_name': 'Amazon Brand – Stone & Beam Hughes Round Wood '\n",
      "                           'Dining Kitchen Table, Expandable, Brown'},\n",
      " 'score': 0.550611913,\n",
      " 'values': []}, 0.015873015873015872), ({'item_id': 'B07LCHQHLC', 'brand': 'Amazon Kitchen', 'item_name': 'Tzatziki Dip with Veggies', 'item_keywords': 'snack deli salad lunch dinner side salad healthy snack protein snack low calorie snack tzatziki veggies vegetarian plant based vegan antipasta appetizer Amazon Kitchen snacks Amazon snacks Amazon to go snacks Amazon lunch Amazon dinner Amazon side salad Amazon healthy salad Amazon ready to go snack Amazon snack pack Amazon tzatziki and veggies Amazon Kitchen snacks Amazon snacks Amazon to go snacks Amazon lunch Amazon dinner Amazon side salad Amazon healthy salad Amazon ready to go snack Amazon snack pack Amazon tzatziki and veggies Amazon Kitchen snacks Amazon snacks Amazon to go snacks Amazon lunch Amazon dinner Amazon side salad Amazon healthy salad Amazon ready to go snack Amazon snack pack Amazon tzatziki and veggies Amazon Kitchen snacks Amazon snacks Amazon to go snacks Amazon lunch Amazon dinner Amazon side salad Amazon healthy salad Amazon ready to go snack Amazon snack pack Amazon tzatziki and veggies Amazon Kitchen snacks Amazon snacks Amazon to go snacks Amazon lunch Amazon dinner Amazon side salad Amazon healthy salad Amazon ready to go snack Amazon snack pack Amazon tzatziki and veggies Amazon Kitchen snacks Amazon snacks Amazon to go snacks Amazon lunch Amazon dinner Amazon side salad Amazon healthy salad Amazon ready to go snack Amazon snack pack Amazon tzatziki and veggies Amazon Kitchen snacks Amazon snacks Amazon to go snacks Amazon lunch Amazon dinner Amazon side salad Amazon healthy salad Amazon ready to go snack Amazon snack pack Amazon tzatziki and veggies Amazon Kitchen snacks Amazon snacks Amazon to go snacks Amazon lunch Amazon dinner Amazon side salad Amazon healthy salad Amazon ready to go snack Amazon snack pack Amazon tzatziki and veggies Amazon Kitchen snacks Amazon snacks Amazon to go snacks Amazon lunch Amazon dinner Amazon side salad Amazon healthy salad Amazon ready to go snack Amazon snack pack Amazon tzatziki and veggies Amazon Kitchen snacks Amazon snacks Amazon to go snacks Amazon lunch Amazon dinner Amazon side salad Amazon healthy salad Amazon ready to go snack Amazon snack pack Amazon tzatziki and veggies Amazon Kitchen snacks Amazon snacks Amazon to go snacks Amazon lunch Amazon dinner Amazon side salad Amazon healthy salad Amazon ready to go snack Amazon snack pack Amazon tzatziki and veggies Amazon Kitchen snacks Amazon snacks Amazon to go snacks Amazon lunch Amazon dinner Amazon side salad Amazon healthy salad Amazon ready to go snack Amazon snack pack Amazon tzatziki and veggies Amazon Kitchen snacks Amazon snacks Amazon to go snacks Amazon lunch Amazon dinner Amazon side salad Amazon healthy salad Amazon ready to go snack Amazon snack pack Amazon tzatziki and veggies Amazon Kitchen snacks Amazon snacks Amazon to go snacks Amazon lunch Amazon dinner Amazon side salad Amazon healthy salad Amazon ready to go snack Amazon snack pack Amazon tzatziki and veggies', 'bullet_point': 'Cucumber-yogurt dip with broccoli florets, mini sweet peppers, and English cucumber slices Vegetarian Pause & Recharge Perfect between meals when you need a little pick-me-up Brought to you by Amazon Kitchen, grab-and-enjoy meal solutions, prepped for what’s next', 'product_description': ''}, 0.015873015873015872), ({'item_id': 'B07LCKP5DC', 'brand': 'Amazon Kitchen', 'item_name': 'Amazon Kitchen, Egg & Cheddar Snack Box, 8.2 oz', 'item_keywords': 'snack deli salad lunch dinner side salad healthy snack protein snack low calorie snack egg and cheese hard boiled eggs vegetarian antipasta appetizer Amazon Kitchen snacks Amazon snacks Amazon to go snacks Amazon lunch Amazon dinner Amazon side salad Amazon healthy salad Amazon ready to go snack Amazon snack pack Amazon egg and cheese Amazon Kitchen snacks Amazon snacks Amazon to go snacks Amazon lunch Amazon dinner Amazon side salad Amazon healthy salad Amazon ready to go snack Amazon snack pack Amazon egg and cheese Amazon Kitchen snacks Amazon snacks Amazon to go snacks Amazon lunch Amazon dinner Amazon side salad Amazon healthy salad Amazon ready to go snack Amazon snack pack Amazon egg and cheese Amazon Kitchen snacks Amazon snacks Amazon to go snacks Amazon lunch Amazon dinner Amazon side salad Amazon healthy salad Amazon ready to go snack Amazon snack pack Amazon egg and cheese Amazon Kitchen snacks Amazon snacks Amazon to go snacks Amazon lunch Amazon dinner Amazon side salad Amazon healthy salad Amazon ready to go snack Amazon snack pack Amazon egg and cheese Amazon Kitchen snacks Amazon snacks Amazon to go snacks Amazon lunch Amazon dinner Amazon side salad Amazon healthy salad Amazon ready to go snack Amazon snack pack Amazon egg and cheese Amazon Kitchen snacks Amazon snacks Amazon to go snacks Amazon lunch Amazon dinner Amazon side salad Amazon healthy salad Amazon ready to go snack Amazon snack pack Amazon egg and cheese Amazon Kitchen snacks Amazon snacks Amazon to go snacks Amazon lunch Amazon dinner Amazon side salad Amazon healthy salad Amazon ready to go snack Amazon snack pack Amazon egg and cheese Amazon Kitchen snacks Amazon snacks Amazon to go snacks Amazon lunch Amazon dinner Amazon side salad Amazon healthy salad Amazon ready to go snack Amazon snack pack Amazon egg and cheese Amazon Kitchen snacks Amazon snacks Amazon to go snacks Amazon lunch Amazon dinner Amazon side salad Amazon healthy salad Amazon ready to go snack Amazon snack pack Amazon egg and cheese Amazon Kitchen snacks Amazon snacks Amazon to go snacks Amazon lunch Amazon dinner Amazon side salad Amazon healthy salad Amazon ready to go snack Amazon snack pack Amazon egg and cheese Amazon Kitchen snacks Amazon snacks Amazon to go snacks Amazon lunch Amazon dinner Amazon side salad Amazon healthy salad Amazon ready to go snack Amazon snack pack Amazon egg and cheese Amazon Kitchen snacks Amazon snacks Amazon to go snacks Amazon lunch Amazon dinner Amazon side salad Amazon healthy salad Amazon ready to go snack Amazon snack pack Amazon egg and cheese Amazon Kitchen snacks Amazon snacks Amazon to go snacks Amazon lunch Amazon dinner Amazon side salad Amazon healthy salad Amazon ready to go snack Amazon snack pack Amazon egg and cheese', 'bullet_point': 'Hard-boiled eggs with apple and cucumber slices, cheddar, roasted almonds, and everything spice Vegetarian Pause & Recharge Perfect between meals when you need a little pick-me-up Brought to you by Amazon Kitchen, grab-and-enjoy meal solutions, prepped for what’s next', 'product_description': ''}, 0.015625), ({'item_id': 'B07LCJDG3P', 'brand': 'Amazon Kitchen', 'item_name': 'Smoked Salmon Dip Box', 'item_keywords': 'snack deli salad lunch dinner side salad healthy snack protein snack low calorie snack salmon dip hard boiled eggs antipasta appetizer Amazon Kitchen snacks Amazon dinner Amazon healthy salad Amazon lunch Amazon ready to go snack Amazon salmon dip Amazon side salad Amazon snack pack Amazon snacks Amazon to go snacks Amazon Kitchen snacks Amazon dinner Amazon healthy salad Amazon lunch Amazon ready to go snack Amazon salmon dip Amazon side salad Amazon snack pack Amazon snacks Amazon to go snacks Amazon Kitchen snacks Amazon dinner Amazon healthy salad Amazon lunch Amazon ready to go snack Amazon salmon dip Amazon side salad Amazon snack pack Amazon snacks Amazon to go snacks Amazon Kitchen snacks Amazon dinner Amazon healthy salad Amazon lunch Amazon ready to go snack Amazon salmon dip Amazon side salad Amazon snack pack Amazon snacks Amazon to go snacks Amazon Kitchen snacks Amazon dinner Amazon healthy salad Amazon lunch Amazon ready to go snack Amazon salmon dip Amazon side salad Amazon snack pack Amazon snacks Amazon to go snacks Amazon Kitchen snacks Amazon dinner Amazon healthy salad Amazon lunch Amazon ready to go snack Amazon salmon dip Amazon side salad Amazon snack pack Amazon snacks Amazon to go snacks Amazon Kitchen snacks Amazon dinner Amazon healthy salad Amazon lunch Amazon ready to go snack Amazon salmon dip Amazon side salad Amazon snack pack Amazon snacks Amazon to go snacks Amazon Kitchen snacks Amazon dinner Amazon healthy salad Amazon lunch Amazon ready to go snack Amazon salmon dip Amazon side salad Amazon snack pack Amazon snacks Amazon to go snacks Amazon Kitchen snacks Amazon dinner Amazon healthy salad Amazon lunch Amazon ready to go snack Amazon salmon dip Amazon side salad Amazon snack pack Amazon snacks Amazon to go snacks Amazon Kitchen snacks Amazon dinner Amazon healthy salad Amazon lunch Amazon ready to go snack Amazon salmon dip Amazon side salad Amazon snack pack Amazon snacks Amazon to go snacks Amazon Kitchen snacks Amazon dinner Amazon healthy salad Amazon lunch Amazon ready to go snack Amazon salmon dip Amazon side salad Amazon snack pack Amazon snacks Amazon to go snacks Amazon Kitchen snacks Amazon dinner Amazon healthy salad Amazon lunch Amazon ready to go snack Amazon salmon dip Amazon side salad Amazon snack pack Amazon snacks Amazon to go snacks Amazon Kitchen snacks Amazon dinner Amazon healthy salad Amazon lunch Amazon ready to go snack Amazon salmon dip Amazon side salad Amazon snack pack Amazon snacks Amazon to go snacks Amazon Kitchen snacks Amazon dinner Amazon healthy salad Amazon lunch Amazon ready to go snack Amazon salmon dip Amazon side salad Amazon snack pack Amazon snacks Amazon to go snacks Amazon Kitchen snacks Amazon dinner Amazon healthy salad Amazon lunch Amazon ready to go snack Amazon salmon dip Amazon side salad Amazon snack pack Amazon snacks Amazon to go snacks', 'bullet_point': 'Smoked salmon dip and hard-boiled egg with everything-spice crackers, cornichons, and cucumber slices Pause & Recharge Perfect between meals when you need a little pick-me-up Brought to you by Amazon Kitchen, grab-and-enjoy meal solutions, prepped for what’s next', 'product_description': ''}, 0.015384615384615385), ({'item_id': 'B07XZLZM4T', 'brand': 'AmazonBasics', 'item_name': 'AmazonBasics Indoor and Outdoor Plastic Toddler Chairs - 4 Pack, Multicolor', 'item_keywords': 'small play toddlers pink fur saucer activity bags kid for hop bag box skip storage girls infant childs boy walkers plush toddler skiphop and butterfly jumpers centers me bouncer up fluffy exersaucer floor bean beanbag table jumper toy soft sit boxes bouncers bench lounge explore chair childrens', 'bullet_point': \"Set of 4 plastic kids chairs for indoor or outdoor use Made of durable, non-toxic polypropylene material; easy to clean Rolled seat edge, wide arm rests, and slatted backrest and seat panels Stackable, lightweight, molded design for space-saving storage Rounded corners that won't scratch or injure your child Ideal for ages 18 months to 5 years old with adult supervision; weight capacity 50 pounds (seat depth = 9.4 inches, seat width = 12.2 inches)\", 'product_description': ''}, 0.015151515151515152), ({'item_id': 'B089G43NCR', 'brand': 'AmazonBasics', 'item_name': 'AmazonBasics Indoor and Outdoor Plastic Toddler Chairs - 4 Pack, Multicolor (Renewed)', 'item_keywords': 'small play toddlers pink fur saucer activity bags kid for hop bag box skip storage girls infant childs boy walkers plush toddler skiphop and butterfly jumpers centers me bouncer up fluffy exersaucer floor bean beanbag table jumper toy soft sit boxes bouncers bench lounge explore chair childrens', 'bullet_point': \"Set of 4 plastic kids chairs for indoor or outdoor use Made of durable, non-toxic polypropylene material; easy to clean Rolled seat edge, wide arm rests, and slatted backrest and seat panels Stackable, lightweight, molded design for space-saving storage Rounded corners that won't scratch or injure your child Ideal for ages 18 months to 5 years old with adult supervision; weight capacity 50 pounds\", 'product_description': ''}, 0.014925373134328358), ({'item_id': 'B07LCH94FF', 'brand': 'Amazon Kitchen', 'item_name': 'Hummus Dip with Veggies', 'item_keywords': 'snack deli salad lunch dinner side salad healthy snack protein snack low calorie snack hummus veggies vegetarian plant based vegan antipasta appetizer Amazon Kitchen snacks Amazon snacks Amazon to go snacks Amazon lunch Amazon dinner Amazon side salad Amazon healthy salad Amazon ready to go snack Amazon snack pack Amazon hummus and veggies Amazon Kitchen snacks Amazon snacks Amazon to go snacks Amazon lunch Amazon dinner Amazon side salad Amazon healthy salad Amazon ready to go snack Amazon snack pack Amazon hummus and veggies Amazon Kitchen snacks Amazon snacks Amazon to go snacks Amazon lunch Amazon dinner Amazon side salad Amazon healthy salad Amazon ready to go snack Amazon snack pack Amazon hummus and veggies Amazon Kitchen snacks Amazon snacks Amazon to go snacks Amazon lunch Amazon dinner Amazon side salad Amazon healthy salad Amazon ready to go snack Amazon snack pack Amazon hummus and veggies Amazon Kitchen snacks Amazon snacks Amazon to go snacks Amazon lunch Amazon dinner Amazon side salad Amazon healthy salad Amazon ready to go snack Amazon snack pack Amazon hummus and veggies Amazon Kitchen snacks Amazon snacks Amazon to go snacks Amazon lunch Amazon dinner Amazon side salad Amazon healthy salad Amazon ready to go snack Amazon snack pack Amazon hummus and veggies Amazon Kitchen snacks Amazon snacks Amazon to go snacks Amazon lunch Amazon dinner Amazon side salad Amazon healthy salad Amazon ready to go snack Amazon snack pack Amazon hummus and veggies Amazon Kitchen snacks Amazon snacks Amazon to go snacks Amazon lunch Amazon dinner Amazon side salad Amazon healthy salad Amazon ready to go snack Amazon snack pack Amazon hummus and veggies Amazon Kitchen snacks Amazon snacks Amazon to go snacks Amazon lunch Amazon dinner Amazon side salad Amazon healthy salad Amazon ready to go snack Amazon snack pack Amazon hummus and veggies Amazon Kitchen snacks Amazon snacks Amazon to go snacks Amazon lunch Amazon dinner Amazon side salad Amazon healthy salad Amazon ready to go snack Amazon snack pack Amazon hummus and veggies Amazon Kitchen snacks Amazon snacks Amazon to go snacks Amazon lunch Amazon dinner Amazon side salad Amazon healthy salad Amazon ready to go snack Amazon snack pack Amazon hummus and veggies Amazon Kitchen snacks Amazon snacks Amazon to go snacks Amazon lunch Amazon dinner Amazon side salad Amazon healthy salad Amazon ready to go snack Amazon snack pack Amazon hummus and veggies Amazon Kitchen snacks Amazon snacks Amazon to go snacks Amazon lunch Amazon dinner Amazon side salad Amazon healthy salad Amazon ready to go snack Amazon snack pack Amazon hummus and veggies Amazon Kitchen snacks Amazon snacks Amazon to go snacks Amazon lunch Amazon dinner Amazon side salad Amazon healthy salad Amazon ready to go snack Amazon snack pack Amazon hummus and veggies Amazon Kitchen snacks Amazon snacks Amazon to go snacks Amazon lunch Amazon dinner Amazon side salad Amazon healthy salad Amazon ready to go snack Amazon snack pack Amazon hummus and veggies', 'bullet_point': 'Puréed garbanzo beans and tahini with broccoli florets, mini sweet peppers, and English cucumber slices Plant based–vegan with no animal products Pause & Recharge Perfect between meals when you need a little pick-me-up Brought to you by Amazon Kitchen, grab-and-enjoy meal solutions, prepped for what’s next', 'product_description': ''}, 0.014705882352941176), ({'item_id': 'B0725Z3LDQ', 'brand': 'find.', 'item_name': \"find. Women's 123265 Boots, Blau Navy, 8 us\", 'item_keywords': 'Find Thigh High Boot boots boots for women boots women shoes shoes women stiletto boots womens ankle boots womens fashion womens shoes womens stilettos womenswear', 'bullet_point': 'Stretch satin upper Pointed toe', 'product_description': ''}, 0.014492753623188406), ({'item_id': 'B087CS93VZ', 'brand': 'Amazon Kitchen', 'item_name': 'Amazon Kitchen, Egg & Cheddar Snack Box, 8.2 oz', 'item_keywords': 'snack box snacks lunch snacks office snacks Snacks on the go to go snacks protein snacks healthy snacks healthy snacks for adults adult snacks cage free eggs everything spice hard boiled egg cheddar cheese fruit snack snack pack Amazon Kitchen Amazon Kitchen Meals Amazon Kitchen Ready Meals Amazon Kitchen Meal Kits Amazon Kitchen Fresh Ready Meals Amazon Kitchen Lunch Amazon Kitchen Dinner Amazon Kitchen Snacks Amazon Kitchen sides Amazon Kitchen meal solutions Amazon Kitchen Prepared Food Amazon Kitchen Snack Box Amazon Kitchen Amazon Kitchen Meals Amazon Kitchen Ready Meals Amazon Kitchen Meal Kits Amazon Kitchen Fresh Ready Meals Amazon Kitchen Lunch Amazon Kitchen Dinner Amazon Kitchen Snacks Amazon Kitchen sides Amazon Kitchen meal solutions Amazon Kitchen Prepared Food Amazon Kitchen Snack Box Amazon Kitchen Amazon Kitchen Meals Amazon Kitchen Ready Meals Amazon Kitchen Meal Kits Amazon Kitchen Fresh Ready Meals Amazon Kitchen Lunch Amazon Kitchen Dinner Amazon Kitchen Snacks Amazon Kitchen sides Amazon Kitchen meal solutions Amazon Kitchen Prepared Food Amazon Kitchen Snack Box Amazon Kitchen Amazon Kitchen Meals Amazon Kitchen Ready Meals Amazon Kitchen Meal Kits Amazon Kitchen Fresh Ready Meals Amazon Kitchen Lunch Amazon Kitchen Dinner Amazon Kitchen Snacks Amazon Kitchen sides Amazon Kitchen meal solutions Amazon Kitchen Prepared Food Amazon Kitchen Snack Box Amazon Kitchen Amazon Kitchen Meals Amazon Kitchen Ready Meals Amazon Kitchen Meal Kits Amazon Kitchen Fresh Ready Meals Amazon Kitchen Lunch Amazon Kitchen Dinner Amazon Kitchen Snacks Amazon Kitchen sides Amazon Kitchen meal solutions Amazon Kitchen Prepared Food Amazon Kitchen Snack Box Amazon Kitchen Amazon Kitchen Meals Amazon Kitchen Ready Meals Amazon Kitchen Meal Kits Amazon Kitchen Fresh Ready Meals Amazon Kitchen Lunch Amazon Kitchen Dinner Amazon Kitchen Snacks Amazon Kitchen sides Amazon Kitchen meal solutions Amazon Kitchen Prepared Food Amazon Kitchen Snack Box Amazon Kitchen Amazon Kitchen Meals Amazon Kitchen Ready Meals Amazon Kitchen Meal Kits Amazon Kitchen Fresh Ready Meals Amazon Kitchen Lunch Amazon Kitchen Dinner Amazon Kitchen Snacks Amazon Kitchen sides Amazon Kitchen meal solutions Amazon Kitchen Prepared Food Amazon Kitchen Snack Box Amazon Kitchen Amazon Kitchen Meals Amazon Kitchen Ready Meals Amazon Kitchen Meal Kits Amazon Kitchen Fresh Ready Meals Amazon Kitchen Lunch Amazon Kitchen Dinner Amazon Kitchen Snacks Amazon Kitchen sides Amazon Kitchen meal solutions Amazon Kitchen Prepared Food Amazon Kitchen Snack Box Amazon Kitchen Amazon Kitchen Meals Amazon Kitchen Ready Meals Amazon Kitchen Meal Kits Amazon Kitchen Fresh Ready Meals Amazon Kitchen Lunch Amazon Kitchen Dinner Amazon Kitchen Snacks Amazon Kitchen sides Amazon Kitchen meal solutions Amazon Kitchen Prepared Food Amazon Kitchen Snack Box Amazon Kitchen Amazon Kitchen Meals Amazon Kitchen Ready Meals Amazon Kitchen Meal Kits Amazon Kitchen Fresh Ready Meals Amazon Kitchen Lunch Amazon Kitchen Dinner Amazon Kitchen Snacks Amazon Kitchen sides Amazon Kitchen meal solutions Amazon Kitchen Prepared Food Amazon Kitchen Snack Box Amazon Kitchen Amazon Kitchen Meals Amazon Kitchen Ready Meals Amazon Kitchen Meal Kits Amazon Kitchen Fresh Ready Meals Amazon Kitchen Lunch Amazon Kitchen Dinner Amazon Kitchen Snacks Amazon Kitchen sides Amazon Kitchen meal solutions Amazon Kitchen Prepared Food Amazon Kitchen Snack Box Amazon Kitchen Amazon Kitchen Meals Amazon Kitchen Ready Meals Amazon Kitchen Meal Kits Amazon Kitchen Fresh Ready Meals Amazon Kitchen Lunch Amazon Kitchen Dinner Amazon Kitchen Snacks Amazon Kitchen sides Amazon Kitchen meal solutions Amazon Kitchen Prepared Food Amazon Kitchen Snack Box Amazon Kitchen Amazon Kitchen Meals Amazon Kitchen Ready Meals Amazon Kitchen Meal Kits Amazon Kitchen Fresh Ready Meals Amazon Kitchen Lunch Amazon Kitchen Dinner Amazon Kitchen Snacks Amazon Kitchen sides Amazon Kitchen meal solutions Amazon Kitchen Prepared Food Amazon Kitchen Snack Box Amazon Kitchen Amazon Kitchen Meals Amazon Kitchen Ready Meals Amazon Kitchen Meal Kits Amazon Kitchen Fresh Ready Meals Amazon Kitchen Lunch Amazon Kitchen Dinner Amazon Kitchen Snacks Amazon Kitchen sides Amazon Kitchen meal solutions Amazon Kitchen Prepared Food Amazon Kitchen Snack Box', 'bullet_point': 'With cage-free hard-boiled eggs, cheddar, apples, cucumber, roasted almonds, and everything spice 27g Protein per serving (see nutrition information for fat, sat fat, cholesterol, and sodium content) Pause & Recharge Perfect between meals when you need a little pick-me-up Brought to you by Amazon Kitchen, grab-and-enjoy meal solutions, prepped for what’s next', 'product_description': ''}, 0.014285714285714285)]\n"
     ]
    }
   ],
   "source": [
    "import time\n",
    "from collections import defaultdict\n",
    "\n",
    "def text_search(query):\n",
    "    q = {\n",
    "        \"query\": {\n",
    "            \"query_string\": {\n",
    "                \"query\": query,\n",
    "            }\n",
    "        }\n",
    "    }\n",
    "\n",
    "    result = es_client.search(index=index, body=q)\n",
    "    hits = result['hits']\n",
    "    return [hit['_source'] for hit in hits['hits']]\n",
    "\n",
    "def vector_search(query, topk=3):\n",
    "    query_embedding = embedding_model.encode(query).tolist()\n",
    "\n",
    "    results = pc_client.query(\n",
    "        namespace=\"ns1\",\n",
    "        vector=query_embedding,\n",
    "        top_k=topk,\n",
    "        include_values=False,\n",
    "        include_metadata=True\n",
    "    )\n",
    "    \n",
    "    sorted_matches = sorted(results['matches'], key=lambda x: x['score'], reverse=True)\n",
    "    return sorted_matches\n",
    "\n",
    "def reciprocal_rank_fusion(results, K=60):\n",
    "    docs = []\n",
    "    rrf_score = []\n",
    "    \n",
    "    for ranked_doc in results:\n",
    "        for rank, doc in enumerate(ranked_doc, 1):\n",
    "            docs.append(doc)\n",
    "            rrf_score.append(1.0 / (rank + K))\n",
    "\n",
    "    scored_docs = zip(docs, rrf_score)\n",
    "    sorted_docs = sorted(scored_docs, key=lambda x: x[1], reverse=True)\n",
    "    return sorted_docs\n",
    "\n",
    "def hybrid_search(query, topk=3):\n",
    "    results = [vector_search(query, topk), text_search(query)]\n",
    "    ranked_results = reciprocal_rank_fusion(results)\n",
    "    return ranked_results\n",
    "\n",
    "start_time = time.time()\n",
    "results = hybrid_search(\"Find me a kitchen table\")\n",
    "print(f\"Done in {time.time() - start_time} seconds\")\n",
    "print(results)"
   ]
  },
  {
   "cell_type": "markdown",
   "id": "3208a636-0db2-4f80-bbba-b160bcd9eeb0",
   "metadata": {},
   "source": [
    "### Hybrid Search + LLM Reranker"
   ]
  },
  {
   "cell_type": "code",
   "execution_count": 84,
   "id": "c326b24a-bc56-4323-bff4-c97646c8a9c2",
   "metadata": {},
   "outputs": [
    {
     "name": "stderr",
     "output_type": "stream",
     "text": [
      "If you want to use `XLMRobertaLMHeadModel` as a standalone, add `is_decoder=True.`\n",
      "Some weights of XLMRobertaForCausalLM were not initialized from the model checkpoint at BAAI/bge-reranker-v2-m3 and are newly initialized: ['lm_head.bias', 'lm_head.decoder.bias', 'lm_head.dense.bias', 'lm_head.dense.weight', 'lm_head.layer_norm.bias', 'lm_head.layer_norm.weight']\n",
      "You should probably TRAIN this model on a down-stream task to be able to use it for predictions and inference.\n"
     ]
    }
   ],
   "source": [
    "# Reranker Model\n",
    "# https://huggingface.co/BAAI/bge-reranker-v2-m3#model-list\n",
    "# ! pip3 install -U FlagEmbedding peft\n",
    "\n",
    "from FlagEmbedding import FlagLLMReranker\n",
    "reranker = FlagLLMReranker('BAAI/bge-reranker-v2-m3', use_fp16=True)"
   ]
  },
  {
   "cell_type": "code",
   "execution_count": 87,
   "id": "f38e2e4f-1fee-43ac-b681-41fc7dc10c9a",
   "metadata": {},
   "outputs": [
    {
     "name": "stderr",
     "output_type": "stream",
     "text": [
      "  0%|                                                                                                                                                                                                                                 | 0/1 [00:00<?, ?it/s]You're using a XLMRobertaTokenizerFast tokenizer. Please note that with a fast tokenizer, using the `__call__` method is faster than using a method to encode the text followed by a call to the `pad` method to get a padded encoding.\n",
      "100%|█████████████████████████████████████████████████████████████████████████████████████████████████████████████████████████████████████████████████████████████████████████████████████████████████████████████████████████| 1/1 [00:08<00:00,  8.41s/it]"
     ]
    },
    {
     "name": "stdout",
     "output_type": "stream",
     "text": [
      "Done in 9.356230020523071 seconds\n",
      "[({'item_id': 'B0725Z3LDP', 'brand': 'find.', 'item_name': \"find. Women's 123265 Boots, Red, 8 US\", 'item_keywords': 'women woman Find Thigh High Boot boots boots for women boots women shoes shoes women stiletto boots womens ankle boots womens fashion womens shoes womens stilettos womenswear Find Thigh High Boot boots boots for women boots women shoes shoes women stiletto boots womens ankle boots womens fashion womens shoes womens stilettos womenswear Find Thigh High Boot boots boots for women boots women shoes shoes women stiletto boots womens ankle boots womens fashion womens shoes womens stilettos womenswear Find Thigh High Boot boots boots for women boots women shoes shoes women stiletto boots womens ankle boots womens fashion womens shoes womens stilettos womenswear Find Thigh High Boot boots boots for women boots women shoes shoes women stiletto boots womens ankle boots womens fashion womens shoes womens stilettos womenswear Find Thigh High Boot boots boots for women boots women shoes shoes women stiletto boots womens ankle boots womens fashion womens shoes womens stilettos womenswear Find Thigh High Boot boots boots for women boots women shoes shoes women stiletto boots womens ankle boots womens fashion womens shoes womens stilettos womenswear Find Thigh High Boot boots boots for women boots women shoes shoes women stiletto boots womens ankle boots womens fashion womens shoes womens stilettos womenswear Find Thigh High Boot boots boots for women boots women shoes shoes women stiletto boots womens ankle boots womens fashion womens shoes womens stilettos womenswear Find Thigh High Boot boots boots for women boots women shoes shoes women stiletto boots womens ankle boots womens fashion womens shoes womens stilettos womenswear Find Thigh High Boot boots boots for women boots women shoes shoes women stiletto boots womens ankle boots womens fashion womens shoes womens stilettos womenswear Find Thigh High Boot boots boots for women boots women shoes shoes women stiletto boots womens ankle boots womens fashion womens shoes womens stilettos womenswear Find Thigh High Boot boots boots for women boots women shoes shoes women stiletto boots womens ankle boots womens fashion womens shoes womens stilettos womenswear Find Thigh High Boot boots boots for women boots women shoes shoes women stiletto boots womens ankle boots womens fashion womens shoes womens stilettos womenswear', 'bullet_point': 'Stretch satin upper Pointed toe', 'product_description': ''}, 5.0703125), ({'item_id': 'B07B78LZQC', 'brand': 'Rivet', 'item_name': 'Amazon Brand – Rivet Ian Modern Wood Round Dining Room Kitchen Table, 42\"W, Brown', 'item_keywords': 'drop pedestal sauder expanding de behind door game tv con hidden rug signature expandable folding entryway mid whitesburg couch storage media florence house seats long rustic tables white furniture decor design by farm chairs antique height farmhouse dinning ashley set large counter century', 'bullet_point': 'Retro style meets practicality in this round kitchen table with inward slanted legs and a warm butterscotch finish. The minimalist silhouette is the epitome of mid-century modern style and perfect for small dining spaces. 42\"L x 42\"W x 30\"H Sturdy hardwoods with acacia veneer A casual transitional table for a small space or kitchen nook Comfortable seating for four Assembly in 30 minutes or less; bolt on legs Free returns for 30 days. 1-year warranty.', 'product_description': ''}, 1.3828125), ({'item_id': 'B07LCKP5DC', 'brand': 'Amazon Kitchen', 'item_name': 'Amazon Kitchen, Egg & Cheddar Snack Box, 8.2 oz', 'item_keywords': 'snack deli salad lunch dinner side salad healthy snack protein snack low calorie snack egg and cheese hard boiled eggs vegetarian antipasta appetizer Amazon Kitchen snacks Amazon snacks Amazon to go snacks Amazon lunch Amazon dinner Amazon side salad Amazon healthy salad Amazon ready to go snack Amazon snack pack Amazon egg and cheese Amazon Kitchen snacks Amazon snacks Amazon to go snacks Amazon lunch Amazon dinner Amazon side salad Amazon healthy salad Amazon ready to go snack Amazon snack pack Amazon egg and cheese Amazon Kitchen snacks Amazon snacks Amazon to go snacks Amazon lunch Amazon dinner Amazon side salad Amazon healthy salad Amazon ready to go snack Amazon snack pack Amazon egg and cheese Amazon Kitchen snacks Amazon snacks Amazon to go snacks Amazon lunch Amazon dinner Amazon side salad Amazon healthy salad Amazon ready to go snack Amazon snack pack Amazon egg and cheese Amazon Kitchen snacks Amazon snacks Amazon to go snacks Amazon lunch Amazon dinner Amazon side salad Amazon healthy salad Amazon ready to go snack Amazon snack pack Amazon egg and cheese Amazon Kitchen snacks Amazon snacks Amazon to go snacks Amazon lunch Amazon dinner Amazon side salad Amazon healthy salad Amazon ready to go snack Amazon snack pack Amazon egg and cheese Amazon Kitchen snacks Amazon snacks Amazon to go snacks Amazon lunch Amazon dinner Amazon side salad Amazon healthy salad Amazon ready to go snack Amazon snack pack Amazon egg and cheese Amazon Kitchen snacks Amazon snacks Amazon to go snacks Amazon lunch Amazon dinner Amazon side salad Amazon healthy salad Amazon ready to go snack Amazon snack pack Amazon egg and cheese Amazon Kitchen snacks Amazon snacks Amazon to go snacks Amazon lunch Amazon dinner Amazon side salad Amazon healthy salad Amazon ready to go snack Amazon snack pack Amazon egg and cheese Amazon Kitchen snacks Amazon snacks Amazon to go snacks Amazon lunch Amazon dinner Amazon side salad Amazon healthy salad Amazon ready to go snack Amazon snack pack Amazon egg and cheese Amazon Kitchen snacks Amazon snacks Amazon to go snacks Amazon lunch Amazon dinner Amazon side salad Amazon healthy salad Amazon ready to go snack Amazon snack pack Amazon egg and cheese Amazon Kitchen snacks Amazon snacks Amazon to go snacks Amazon lunch Amazon dinner Amazon side salad Amazon healthy salad Amazon ready to go snack Amazon snack pack Amazon egg and cheese Amazon Kitchen snacks Amazon snacks Amazon to go snacks Amazon lunch Amazon dinner Amazon side salad Amazon healthy salad Amazon ready to go snack Amazon snack pack Amazon egg and cheese Amazon Kitchen snacks Amazon snacks Amazon to go snacks Amazon lunch Amazon dinner Amazon side salad Amazon healthy salad Amazon ready to go snack Amazon snack pack Amazon egg and cheese', 'bullet_point': 'Hard-boiled eggs with apple and cucumber slices, cheddar, roasted almonds, and everything spice Vegetarian Pause & Recharge Perfect between meals when you need a little pick-me-up Brought to you by Amazon Kitchen, grab-and-enjoy meal solutions, prepped for what’s next', 'product_description': ''}, 0.8291015625), ({'item_id': 'B07LCHQHLC', 'brand': 'Amazon Kitchen', 'item_name': 'Tzatziki Dip with Veggies', 'item_keywords': 'snack deli salad lunch dinner side salad healthy snack protein snack low calorie snack tzatziki veggies vegetarian plant based vegan antipasta appetizer Amazon Kitchen snacks Amazon snacks Amazon to go snacks Amazon lunch Amazon dinner Amazon side salad Amazon healthy salad Amazon ready to go snack Amazon snack pack Amazon tzatziki and veggies Amazon Kitchen snacks Amazon snacks Amazon to go snacks Amazon lunch Amazon dinner Amazon side salad Amazon healthy salad Amazon ready to go snack Amazon snack pack Amazon tzatziki and veggies Amazon Kitchen snacks Amazon snacks Amazon to go snacks Amazon lunch Amazon dinner Amazon side salad Amazon healthy salad Amazon ready to go snack Amazon snack pack Amazon tzatziki and veggies Amazon Kitchen snacks Amazon snacks Amazon to go snacks Amazon lunch Amazon dinner Amazon side salad Amazon healthy salad Amazon ready to go snack Amazon snack pack Amazon tzatziki and veggies Amazon Kitchen snacks Amazon snacks Amazon to go snacks Amazon lunch Amazon dinner Amazon side salad Amazon healthy salad Amazon ready to go snack Amazon snack pack Amazon tzatziki and veggies Amazon Kitchen snacks Amazon snacks Amazon to go snacks Amazon lunch Amazon dinner Amazon side salad Amazon healthy salad Amazon ready to go snack Amazon snack pack Amazon tzatziki and veggies Amazon Kitchen snacks Amazon snacks Amazon to go snacks Amazon lunch Amazon dinner Amazon side salad Amazon healthy salad Amazon ready to go snack Amazon snack pack Amazon tzatziki and veggies Amazon Kitchen snacks Amazon snacks Amazon to go snacks Amazon lunch Amazon dinner Amazon side salad Amazon healthy salad Amazon ready to go snack Amazon snack pack Amazon tzatziki and veggies Amazon Kitchen snacks Amazon snacks Amazon to go snacks Amazon lunch Amazon dinner Amazon side salad Amazon healthy salad Amazon ready to go snack Amazon snack pack Amazon tzatziki and veggies Amazon Kitchen snacks Amazon snacks Amazon to go snacks Amazon lunch Amazon dinner Amazon side salad Amazon healthy salad Amazon ready to go snack Amazon snack pack Amazon tzatziki and veggies Amazon Kitchen snacks Amazon snacks Amazon to go snacks Amazon lunch Amazon dinner Amazon side salad Amazon healthy salad Amazon ready to go snack Amazon snack pack Amazon tzatziki and veggies Amazon Kitchen snacks Amazon snacks Amazon to go snacks Amazon lunch Amazon dinner Amazon side salad Amazon healthy salad Amazon ready to go snack Amazon snack pack Amazon tzatziki and veggies Amazon Kitchen snacks Amazon snacks Amazon to go snacks Amazon lunch Amazon dinner Amazon side salad Amazon healthy salad Amazon ready to go snack Amazon snack pack Amazon tzatziki and veggies Amazon Kitchen snacks Amazon snacks Amazon to go snacks Amazon lunch Amazon dinner Amazon side salad Amazon healthy salad Amazon ready to go snack Amazon snack pack Amazon tzatziki and veggies', 'bullet_point': 'Cucumber-yogurt dip with broccoli florets, mini sweet peppers, and English cucumber slices Vegetarian Pause & Recharge Perfect between meals when you need a little pick-me-up Brought to you by Amazon Kitchen, grab-and-enjoy meal solutions, prepped for what’s next', 'product_description': ''}, 0.78173828125), ({'item_id': 'B07B82PXD8', 'brand': 'Rivet', 'item_name': 'Amazon Brand – Rivet Ian Modern Medium Dining Kitchen Table, Expandable, 60-80\"L, Brown', 'item_keywords': 'dining-tables dining table dining table set kitchen table round dining table table coffee table console table dining room table kitchen table set side table Rivet mid century modern Brown Extendable Table 60-80\" Extendable Table 60-80\"', 'bullet_point': 'Slanted, tapered legs provide a hint of mid-century style, while butterscotch finish lends a traditional feel. Handsomely-styled corners are visually appealing as well as sturdy. The result is a transitional table that blends with a variety of décor. 39\"D x 60-80\"L x 30\"H Sturdy hardwoods with acacia veneer Modern and traditional touches give it transitional style that will blend with many rooms An extra leaf is provided to expand the table if needed Assembly in 30 minutes or less; just bolt on legs Free returns for 30 days. 1-year warranty.', 'product_description': ''}, 0.6630859375), ({'item_id': 'B089G43NCR', 'brand': 'AmazonBasics', 'item_name': 'AmazonBasics Indoor and Outdoor Plastic Toddler Chairs - 4 Pack, Multicolor (Renewed)', 'item_keywords': 'small play toddlers pink fur saucer activity bags kid for hop bag box skip storage girls infant childs boy walkers plush toddler skiphop and butterfly jumpers centers me bouncer up fluffy exersaucer floor bean beanbag table jumper toy soft sit boxes bouncers bench lounge explore chair childrens', 'bullet_point': \"Set of 4 plastic kids chairs for indoor or outdoor use Made of durable, non-toxic polypropylene material; easy to clean Rolled seat edge, wide arm rests, and slatted backrest and seat panels Stackable, lightweight, molded design for space-saving storage Rounded corners that won't scratch or injure your child Ideal for ages 18 months to 5 years old with adult supervision; weight capacity 50 pounds\", 'product_description': ''}, 0.6279296875), ({'item_id': 'B07XZLZM4T', 'brand': 'AmazonBasics', 'item_name': 'AmazonBasics Indoor and Outdoor Plastic Toddler Chairs - 4 Pack, Multicolor', 'item_keywords': 'small play toddlers pink fur saucer activity bags kid for hop bag box skip storage girls infant childs boy walkers plush toddler skiphop and butterfly jumpers centers me bouncer up fluffy exersaucer floor bean beanbag table jumper toy soft sit boxes bouncers bench lounge explore chair childrens', 'bullet_point': \"Set of 4 plastic kids chairs for indoor or outdoor use Made of durable, non-toxic polypropylene material; easy to clean Rolled seat edge, wide arm rests, and slatted backrest and seat panels Stackable, lightweight, molded design for space-saving storage Rounded corners that won't scratch or injure your child Ideal for ages 18 months to 5 years old with adult supervision; weight capacity 50 pounds (seat depth = 9.4 inches, seat width = 12.2 inches)\", 'product_description': ''}, 0.60400390625), ({'item_id': 'B087CS93VZ', 'brand': 'Amazon Kitchen', 'item_name': 'Amazon Kitchen, Egg & Cheddar Snack Box, 8.2 oz', 'item_keywords': 'snack box snacks lunch snacks office snacks Snacks on the go to go snacks protein snacks healthy snacks healthy snacks for adults adult snacks cage free eggs everything spice hard boiled egg cheddar cheese fruit snack snack pack Amazon Kitchen Amazon Kitchen Meals Amazon Kitchen Ready Meals Amazon Kitchen Meal Kits Amazon Kitchen Fresh Ready Meals Amazon Kitchen Lunch Amazon Kitchen Dinner Amazon Kitchen Snacks Amazon Kitchen sides Amazon Kitchen meal solutions Amazon Kitchen Prepared Food Amazon Kitchen Snack Box Amazon Kitchen Amazon Kitchen Meals Amazon Kitchen Ready Meals Amazon Kitchen Meal Kits Amazon Kitchen Fresh Ready Meals Amazon Kitchen Lunch Amazon Kitchen Dinner Amazon Kitchen Snacks Amazon Kitchen sides Amazon Kitchen meal solutions Amazon Kitchen Prepared Food Amazon Kitchen Snack Box Amazon Kitchen Amazon Kitchen Meals Amazon Kitchen Ready Meals Amazon Kitchen Meal Kits Amazon Kitchen Fresh Ready Meals Amazon Kitchen Lunch Amazon Kitchen Dinner Amazon Kitchen Snacks Amazon Kitchen sides Amazon Kitchen meal solutions Amazon Kitchen Prepared Food Amazon Kitchen Snack Box Amazon Kitchen Amazon Kitchen Meals Amazon Kitchen Ready Meals Amazon Kitchen Meal Kits Amazon Kitchen Fresh Ready Meals Amazon Kitchen Lunch Amazon Kitchen Dinner Amazon Kitchen Snacks Amazon Kitchen sides Amazon Kitchen meal solutions Amazon Kitchen Prepared Food Amazon Kitchen Snack Box Amazon Kitchen Amazon Kitchen Meals Amazon Kitchen Ready Meals Amazon Kitchen Meal Kits Amazon Kitchen Fresh Ready Meals Amazon Kitchen Lunch Amazon Kitchen Dinner Amazon Kitchen Snacks Amazon Kitchen sides Amazon Kitchen meal solutions Amazon Kitchen Prepared Food Amazon Kitchen Snack Box Amazon Kitchen Amazon Kitchen Meals Amazon Kitchen Ready Meals Amazon Kitchen Meal Kits Amazon Kitchen Fresh Ready Meals Amazon Kitchen Lunch Amazon Kitchen Dinner Amazon Kitchen Snacks Amazon Kitchen sides Amazon Kitchen meal solutions Amazon Kitchen Prepared Food Amazon Kitchen Snack Box Amazon Kitchen Amazon Kitchen Meals Amazon Kitchen Ready Meals Amazon Kitchen Meal Kits Amazon Kitchen Fresh Ready Meals Amazon Kitchen Lunch Amazon Kitchen Dinner Amazon Kitchen Snacks Amazon Kitchen sides Amazon Kitchen meal solutions Amazon Kitchen Prepared Food Amazon Kitchen Snack Box Amazon Kitchen Amazon Kitchen Meals Amazon Kitchen Ready Meals Amazon Kitchen Meal Kits Amazon Kitchen Fresh Ready Meals Amazon Kitchen Lunch Amazon Kitchen Dinner Amazon Kitchen Snacks Amazon Kitchen sides Amazon Kitchen meal solutions Amazon Kitchen Prepared Food Amazon Kitchen Snack Box Amazon Kitchen Amazon Kitchen Meals Amazon Kitchen Ready Meals Amazon Kitchen Meal Kits Amazon Kitchen Fresh Ready Meals Amazon Kitchen Lunch Amazon Kitchen Dinner Amazon Kitchen Snacks Amazon Kitchen sides Amazon Kitchen meal solutions Amazon Kitchen Prepared Food Amazon Kitchen Snack Box Amazon Kitchen Amazon Kitchen Meals Amazon Kitchen Ready Meals Amazon Kitchen Meal Kits Amazon Kitchen Fresh Ready Meals Amazon Kitchen Lunch Amazon Kitchen Dinner Amazon Kitchen Snacks Amazon Kitchen sides Amazon Kitchen meal solutions Amazon Kitchen Prepared Food Amazon Kitchen Snack Box Amazon Kitchen Amazon Kitchen Meals Amazon Kitchen Ready Meals Amazon Kitchen Meal Kits Amazon Kitchen Fresh Ready Meals Amazon Kitchen Lunch Amazon Kitchen Dinner Amazon Kitchen Snacks Amazon Kitchen sides Amazon Kitchen meal solutions Amazon Kitchen Prepared Food Amazon Kitchen Snack Box Amazon Kitchen Amazon Kitchen Meals Amazon Kitchen Ready Meals Amazon Kitchen Meal Kits Amazon Kitchen Fresh Ready Meals Amazon Kitchen Lunch Amazon Kitchen Dinner Amazon Kitchen Snacks Amazon Kitchen sides Amazon Kitchen meal solutions Amazon Kitchen Prepared Food Amazon Kitchen Snack Box Amazon Kitchen Amazon Kitchen Meals Amazon Kitchen Ready Meals Amazon Kitchen Meal Kits Amazon Kitchen Fresh Ready Meals Amazon Kitchen Lunch Amazon Kitchen Dinner Amazon Kitchen Snacks Amazon Kitchen sides Amazon Kitchen meal solutions Amazon Kitchen Prepared Food Amazon Kitchen Snack Box Amazon Kitchen Amazon Kitchen Meals Amazon Kitchen Ready Meals Amazon Kitchen Meal Kits Amazon Kitchen Fresh Ready Meals Amazon Kitchen Lunch Amazon Kitchen Dinner Amazon Kitchen Snacks Amazon Kitchen sides Amazon Kitchen meal solutions Amazon Kitchen Prepared Food Amazon Kitchen Snack Box', 'bullet_point': 'With cage-free hard-boiled eggs, cheddar, apples, cucumber, roasted almonds, and everything spice 27g Protein per serving (see nutrition information for fat, sat fat, cholesterol, and sodium content) Pause & Recharge Perfect between meals when you need a little pick-me-up Brought to you by Amazon Kitchen, grab-and-enjoy meal solutions, prepped for what’s next', 'product_description': ''}, 0.58203125), ({'item_id': 'B07B87J7L3', 'brand': 'Stone & Beam', 'item_name': 'Amazon Brand – Stone & Beam Hughes Round Wood Dining Kitchen Table, Expandable, Brown', 'item_keywords': 'pedestal drop de expanding door game extension tv con sommerford signature expandable folding mid butcher storage media florence osmond seats house long lexmod tables modern white furniture grindleburg by farm chairs antique height farmhouse ashley set large oval modway lippa counter tulip', 'bullet_point': 'With warm wood tones, this head-turning kitchen table has touches of rustic and modern. High quality materials and construction techniques ensure it will last through years of family memories. It\\'s ideal for a small space or a kitchen nook. 48\"L x 48-68\"W x 30\"H Hardwood top with acacia veneer; hardwood legs A casual transitional table with elements of many styles An extra leaf is provided to expand the table if needed Assembly in 30 minutes or less; just bolt on legs Free returns for 30 days; 3-year warranty', 'product_description': ''}, 0.5068359375), ({'item_id': 'B07LCJ9232', 'brand': 'Amazon Kitchen', 'item_name': 'Antipasti Meat and Cheese Box', 'item_keywords': 'snack deli salad lunch dinner side salad healthy snack protein snack low calorie snack prosciutto italian meats antipasto antipasta appetizer Amazon Kitchen snacks Amazon dinner Amazon healthy salad Amazon lunch Amazon prosciutto and cheese Amazon ready to go snack Amazon side salad Amazon snack pack Amazon snacks Amazon to go snacks Amazon Kitchen snacks Amazon dinner Amazon healthy salad Amazon lunch Amazon prosciutto and cheese Amazon ready to go snack Amazon side salad Amazon snack pack Amazon snacks Amazon to go snacks Amazon Kitchen snacks Amazon dinner Amazon healthy salad Amazon lunch Amazon prosciutto and cheese Amazon ready to go snack Amazon side salad Amazon snack pack Amazon snacks Amazon to go snacks Amazon Kitchen snacks Amazon dinner Amazon healthy salad Amazon lunch Amazon prosciutto and cheese Amazon ready to go snack Amazon side salad Amazon snack pack Amazon snacks Amazon to go snacks Amazon Kitchen snacks Amazon dinner Amazon healthy salad Amazon lunch Amazon prosciutto and cheese Amazon ready to go snack Amazon side salad Amazon snack pack Amazon snacks Amazon to go snacks Amazon Kitchen snacks Amazon dinner Amazon healthy salad Amazon lunch Amazon prosciutto and cheese Amazon ready to go snack Amazon side salad Amazon snack pack Amazon snacks Amazon to go snacks Amazon Kitchen snacks Amazon dinner Amazon healthy salad Amazon lunch Amazon prosciutto and cheese Amazon ready to go snack Amazon side salad Amazon snack pack Amazon snacks Amazon to go snacks Amazon Kitchen snacks Amazon dinner Amazon healthy salad Amazon lunch Amazon prosciutto and cheese Amazon ready to go snack Amazon side salad Amazon snack pack Amazon snacks Amazon to go snacks Amazon Kitchen snacks Amazon dinner Amazon healthy salad Amazon lunch Amazon prosciutto and cheese Amazon ready to go snack Amazon side salad Amazon snack pack Amazon snacks Amazon to go snacks Amazon Kitchen snacks Amazon dinner Amazon healthy salad Amazon lunch Amazon prosciutto and cheese Amazon ready to go snack Amazon side salad Amazon snack pack Amazon snacks Amazon to go snacks Amazon Kitchen snacks Amazon dinner Amazon healthy salad Amazon lunch Amazon prosciutto and cheese Amazon ready to go snack Amazon side salad Amazon snack pack Amazon snacks Amazon to go snacks Amazon Kitchen snacks Amazon dinner Amazon healthy salad Amazon lunch Amazon prosciutto and cheese Amazon ready to go snack Amazon side salad Amazon snack pack Amazon snacks Amazon to go snacks Amazon Kitchen snacks Amazon dinner Amazon healthy salad Amazon lunch Amazon prosciutto and cheese Amazon ready to go snack Amazon side salad Amazon snack pack Amazon snacks Amazon to go snacks Amazon Kitchen snacks Amazon dinner Amazon healthy salad Amazon lunch Amazon prosciutto and cheese Amazon ready to go snack Amazon side salad Amazon snack pack Amazon snacks Amazon to go snacks', 'bullet_point': 'Prosciutto and pepperoni slices with asiago, cornichons, olives, sweet red peppers, and flatbread Pause & Recharge Perfect between meals when you need a little pick-me-up Brought to you by Amazon Kitchen, grab-and-enjoy meal solutions, prepped for what’s next', 'product_description': ''}, 0.438232421875)]\n"
     ]
    },
    {
     "name": "stderr",
     "output_type": "stream",
     "text": [
      "\n"
     ]
    }
   ],
   "source": [
    "def get_product_str(product):\n",
    "    name = product['item_name']\n",
    "    bullet_points = product['bullet_point']\n",
    "    descriptions = product['product_description']\n",
    "    text = []\n",
    "    if name:\n",
    "        text.append(\"Product Name: %s\" % name)\n",
    "        if bullet_points:\n",
    "            text.append(\"- bullet points: %s\" % ','.join(bullet_points))\n",
    "        if descriptions:\n",
    "            text.append(\"- description: %s\" % ','.join(descriptions))\n",
    "    return '\\n'.join(text)\n",
    "\n",
    "def llm_reranker(query, docs):\n",
    "    pairs = [(query, get_product_str(doc)) for doc in docs]\n",
    "    scores = reranker.compute_score(pairs)\n",
    "    scored_docs = zip(docs, scores)\n",
    "    sorted_docs = sorted(scored_docs, key=lambda x: x[1], reverse=True)\n",
    "    return sorted_docs\n",
    "\n",
    "def fetch_doc(results):\n",
    "    ids = []\n",
    "    for result in results[0]:\n",
    "        ids.append(result['id'])\n",
    "    for result in results[1]:\n",
    "        ids.append(result['item_id'])\n",
    "    q = {\n",
    "        \"query\": {\n",
    "            \"query_string\": {\n",
    "                \"query\": \" OR \".join(ids),\n",
    "                \"default_field\": \"item_id\",\n",
    "            }\n",
    "        }\n",
    "    }\n",
    "    result = es_client.search(index=index, body=q)\n",
    "    hits = result['hits']\n",
    "    return [hit['_source'] for hit in hits['hits']]\n",
    "\n",
    "def hybrid_search2(query, topk=3):\n",
    "    results = [vector_search(query, topk), text_search(query)]\n",
    "    docs = fetch_doc(results)\n",
    "    ranked_results = llm_reranker(query, docs)\n",
    "    return ranked_results\n",
    "\n",
    "start_time = time.time()\n",
    "results = hybrid_search2(\"Find me a kitchen table\")\n",
    "print(f\"Done in {time.time() - start_time} seconds\")\n",
    "print(results)"
   ]
  }
 ],
 "metadata": {
  "kernelspec": {
   "display_name": "Python-3.9.20",
   "language": "python",
   "name": "python-3.9.20"
  },
  "language_info": {
   "codemirror_mode": {
    "name": "ipython",
    "version": 3
   },
   "file_extension": ".py",
   "mimetype": "text/x-python",
   "name": "python",
   "nbconvert_exporter": "python",
   "pygments_lexer": "ipython3",
   "version": "3.9.20"
  }
 },
 "nbformat": 4,
 "nbformat_minor": 5
}
